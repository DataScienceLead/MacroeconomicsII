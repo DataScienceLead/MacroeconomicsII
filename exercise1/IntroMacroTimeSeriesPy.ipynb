{
 "cells": [
  {
   "cell_type": "code",
   "execution_count": null,
   "metadata": {},
   "outputs": [],
   "source": []
  },
  {
   "cell_type": "markdown",
   "metadata": {},
   "source": [
    "# Analyze Norwegian GDP Data\n",
    "* 16-06-2019\n",
    "* Joakim Blix Prestmo\n",
    "* ECN222 - Macroeconomics II\n",
    "* Norwegian University of Life Science"
   ]
  },
  {
   "cell_type": "code",
   "execution_count": 1,
   "metadata": {},
   "outputs": [],
   "source": [
    "import pandas as pd\n",
    "#import matplotlib as plt\n",
    "import matplotlib.pyplot as plt\n",
    "import datetime\n",
    "import numpy as np"
   ]
  },
  {
   "cell_type": "code",
   "execution_count": 2,
   "metadata": {},
   "outputs": [],
   "source": [
    "# Open data from Statistics Norway, www.ssb.no\n",
    "# Quarterly national account: \n",
    "# https://www.ssb.no/en/statbank/list/knr\n",
    "\n",
    "dataset = \"http://www.ssb.no/statbank/sq/10010628/\"\n",
    "df = pd.read_excel(dataset, skiprows=3, skipfooter=48)\n"
   ]
  },
  {
   "cell_type": "code",
   "execution_count": 3,
   "metadata": {},
   "outputs": [
    {
     "data": {
      "text/html": [
       "<div>\n",
       "<style scoped>\n",
       "    .dataframe tbody tr th:only-of-type {\n",
       "        vertical-align: middle;\n",
       "    }\n",
       "\n",
       "    .dataframe tbody tr th {\n",
       "        vertical-align: top;\n",
       "    }\n",
       "\n",
       "    .dataframe thead th {\n",
       "        text-align: right;\n",
       "    }\n",
       "</style>\n",
       "<table border=\"1\" class=\"dataframe\">\n",
       "  <thead>\n",
       "    <tr style=\"text-align: right;\">\n",
       "      <th></th>\n",
       "      <th>Unnamed: 0</th>\n",
       "      <th>Konsum i husholdninger og ideelle organisasjoner</th>\n",
       "      <th>Konsum i offentlig forvaltning</th>\n",
       "      <th>Bruttoinvestering i fast realkapital</th>\n",
       "      <th>Lagerendring og statistiske avvik</th>\n",
       "      <th>Eksport i alt</th>\n",
       "      <th>Import i alt</th>\n",
       "      <th>Bruttonasjonalprodukt, markedsverdi</th>\n",
       "      <th>Bruttonasjonalprodukt Fastlands-Norge, markedsverdi</th>\n",
       "    </tr>\n",
       "  </thead>\n",
       "  <tbody>\n",
       "    <tr>\n",
       "      <th>155</th>\n",
       "      <td>2016K4</td>\n",
       "      <td>356335</td>\n",
       "      <td>191566</td>\n",
       "      <td>201157</td>\n",
       "      <td>19006</td>\n",
       "      <td>281231</td>\n",
       "      <td>264693</td>\n",
       "      <td>784704</td>\n",
       "      <td>678840</td>\n",
       "    </tr>\n",
       "    <tr>\n",
       "      <th>156</th>\n",
       "      <td>2017K1</td>\n",
       "      <td>358822</td>\n",
       "      <td>192527</td>\n",
       "      <td>203765</td>\n",
       "      <td>21954</td>\n",
       "      <td>274978</td>\n",
       "      <td>263443</td>\n",
       "      <td>788709</td>\n",
       "      <td>684648</td>\n",
       "    </tr>\n",
       "    <tr>\n",
       "      <th>157</th>\n",
       "      <td>2017K2</td>\n",
       "      <td>360039</td>\n",
       "      <td>193529</td>\n",
       "      <td>205514</td>\n",
       "      <td>23753</td>\n",
       "      <td>276347</td>\n",
       "      <td>265059</td>\n",
       "      <td>794220</td>\n",
       "      <td>689734</td>\n",
       "    </tr>\n",
       "    <tr>\n",
       "      <th>158</th>\n",
       "      <td>2017K3</td>\n",
       "      <td>363221</td>\n",
       "      <td>194922</td>\n",
       "      <td>204036</td>\n",
       "      <td>26910</td>\n",
       "      <td>274388</td>\n",
       "      <td>265298</td>\n",
       "      <td>798283</td>\n",
       "      <td>693716</td>\n",
       "    </tr>\n",
       "    <tr>\n",
       "      <th>159</th>\n",
       "      <td>2017K4</td>\n",
       "      <td>365934</td>\n",
       "      <td>197553</td>\n",
       "      <td>205451</td>\n",
       "      <td>33114</td>\n",
       "      <td>270933</td>\n",
       "      <td>272860</td>\n",
       "      <td>800232</td>\n",
       "      <td>699352</td>\n",
       "    </tr>\n",
       "    <tr>\n",
       "      <th>160</th>\n",
       "      <td>2018K1</td>\n",
       "      <td>365965</td>\n",
       "      <td>196858</td>\n",
       "      <td>196776</td>\n",
       "      <td>35840</td>\n",
       "      <td>270139</td>\n",
       "      <td>261927</td>\n",
       "      <td>803756</td>\n",
       "      <td>703218</td>\n",
       "    </tr>\n",
       "    <tr>\n",
       "      <th>161</th>\n",
       "      <td>2018K2</td>\n",
       "      <td>370480</td>\n",
       "      <td>196891</td>\n",
       "      <td>205946</td>\n",
       "      <td>28963</td>\n",
       "      <td>274558</td>\n",
       "      <td>269764</td>\n",
       "      <td>807187</td>\n",
       "      <td>708246</td>\n",
       "    </tr>\n",
       "    <tr>\n",
       "      <th>162</th>\n",
       "      <td>2018K3</td>\n",
       "      <td>370284</td>\n",
       "      <td>196844</td>\n",
       "      <td>209917</td>\n",
       "      <td>27649</td>\n",
       "      <td>274677</td>\n",
       "      <td>268538</td>\n",
       "      <td>810942</td>\n",
       "      <td>710008</td>\n",
       "    </tr>\n",
       "    <tr>\n",
       "      <th>163</th>\n",
       "      <td>2018K4</td>\n",
       "      <td>371976</td>\n",
       "      <td>197152</td>\n",
       "      <td>214657</td>\n",
       "      <td>32631</td>\n",
       "      <td>272745</td>\n",
       "      <td>273356</td>\n",
       "      <td>815921</td>\n",
       "      <td>717948</td>\n",
       "    </tr>\n",
       "    <tr>\n",
       "      <th>164</th>\n",
       "      <td>2019K1</td>\n",
       "      <td>373833</td>\n",
       "      <td>199131</td>\n",
       "      <td>211997</td>\n",
       "      <td>31468</td>\n",
       "      <td>278747</td>\n",
       "      <td>279971</td>\n",
       "      <td>815323</td>\n",
       "      <td>720176</td>\n",
       "    </tr>\n",
       "  </tbody>\n",
       "</table>\n",
       "</div>"
      ],
      "text/plain": [
       "    Unnamed: 0  Konsum i husholdninger og ideelle organisasjoner  \\\n",
       "155     2016K4                                            356335   \n",
       "156     2017K1                                            358822   \n",
       "157     2017K2                                            360039   \n",
       "158     2017K3                                            363221   \n",
       "159     2017K4                                            365934   \n",
       "160     2018K1                                            365965   \n",
       "161     2018K2                                            370480   \n",
       "162     2018K3                                            370284   \n",
       "163     2018K4                                            371976   \n",
       "164     2019K1                                            373833   \n",
       "\n",
       "     Konsum i offentlig forvaltning  Bruttoinvestering i fast realkapital  \\\n",
       "155                          191566                                201157   \n",
       "156                          192527                                203765   \n",
       "157                          193529                                205514   \n",
       "158                          194922                                204036   \n",
       "159                          197553                                205451   \n",
       "160                          196858                                196776   \n",
       "161                          196891                                205946   \n",
       "162                          196844                                209917   \n",
       "163                          197152                                214657   \n",
       "164                          199131                                211997   \n",
       "\n",
       "     Lagerendring og statistiske avvik  Eksport i alt  Import i alt  \\\n",
       "155                              19006         281231        264693   \n",
       "156                              21954         274978        263443   \n",
       "157                              23753         276347        265059   \n",
       "158                              26910         274388        265298   \n",
       "159                              33114         270933        272860   \n",
       "160                              35840         270139        261927   \n",
       "161                              28963         274558        269764   \n",
       "162                              27649         274677        268538   \n",
       "163                              32631         272745        273356   \n",
       "164                              31468         278747        279971   \n",
       "\n",
       "     Bruttonasjonalprodukt, markedsverdi  \\\n",
       "155                               784704   \n",
       "156                               788709   \n",
       "157                               794220   \n",
       "158                               798283   \n",
       "159                               800232   \n",
       "160                               803756   \n",
       "161                               807187   \n",
       "162                               810942   \n",
       "163                               815921   \n",
       "164                               815323   \n",
       "\n",
       "     Bruttonasjonalprodukt Fastlands-Norge, markedsverdi  \n",
       "155                                             678840    \n",
       "156                                             684648    \n",
       "157                                             689734    \n",
       "158                                             693716    \n",
       "159                                             699352    \n",
       "160                                             703218    \n",
       "161                                             708246    \n",
       "162                                             710008    \n",
       "163                                             717948    \n",
       "164                                             720176    "
      ]
     },
     "execution_count": 3,
     "metadata": {},
     "output_type": "execute_result"
    }
   ],
   "source": [
    "df.tail(10)\n"
   ]
  },
  {
   "cell_type": "code",
   "execution_count": 4,
   "metadata": {},
   "outputs": [],
   "source": [
    "# Make a timedata index\n",
    "# remove first column\n",
    "# df = df.drop(['Unnamed: 0'], axis=1)\n",
    "# add index, using pandas.period_range, \n",
    "df.index = pd.Index(pd.period_range('1978-01', periods=165, freq='Q'))\n",
    "# remember to update no. of periods every quarter. "
   ]
  },
  {
   "cell_type": "code",
   "execution_count": null,
   "metadata": {},
   "outputs": [],
   "source": [
    "# Rename columns?\n",
    "#df.columns['Consumption', 'PublicConsumption', 'Investments', 'Error', 'Exports', 'Imports', 'GDP', 'GDPMainland']"
   ]
  },
  {
   "cell_type": "markdown",
   "metadata": {},
   "source": [
    "# Figures\n"
   ]
  },
  {
   "cell_type": "code",
   "execution_count": 5,
   "metadata": {},
   "outputs": [
    {
     "data": {
      "image/png": "[encoded data removed]",
      "text/plain": [
       "<Figure size 432x288 with 1 Axes>"
      ]
     },
     "metadata": {},
     "output_type": "display_data"
    }
   ],
   "source": [
    "# Simple time series plot\n",
    "df['Konsum i husholdninger og ideelle organisasjoner'].plot()\n",
    "plt.show()"
   ]
  },
  {
   "cell_type": "code",
   "execution_count": 6,
   "metadata": {},
   "outputs": [
    {
     "data": {
      "image/png": "[encoded data removed]",
      "text/plain": [
       "<Figure size 432x288 with 1 Axes>"
      ]
     },
     "metadata": {},
     "output_type": "display_data"
    }
   ],
   "source": [
    "# Add title and legend\n",
    "df['Konsum i husholdninger og ideelle organisasjoner'].plot()\n",
    "plt.title(\"Figure 1.1: Consumption\")\n",
    "plt.legend()\n",
    "plt.xlabel('Date', fontdict=None, labelpad=None)\n",
    "plt.ylabel('MNOK')\n",
    "\n",
    "# save figure and use in presentataion etc. \n",
    "folder ='C:\\\\Users\\\\username\\\\Documents\\\\GitHub\\\\MacroeconomicsII\\\\'\n",
    "filename = folder + 'consumption1.png'\n",
    "plt.savefig(filename)\n",
    "plt.show()\n"
   ]
  },
  {
   "cell_type": "markdown",
   "metadata": {},
   "source": [
    "# Variables engineering"
   ]
  },
  {
   "cell_type": "code",
   "execution_count": 12,
   "metadata": {},
   "outputs": [
    {
     "ename": "TypeError",
     "evalue": "unsupported operand type(s) for -: 'str' and 'str'",
     "output_type": "error",
     "traceback": [
      "\u001b[1;31m---------------------------------------------------------------------------\u001b[0m",
      "\u001b[1;31mTypeError\u001b[0m                                 Traceback (most recent call last)",
      "\u001b[1;32m<ipython-input-12-5637ef3f90a4>\u001b[0m in \u001b[0;36m<module>\u001b[1;34m()\u001b[0m\n\u001b[0;32m      2\u001b[0m \u001b[1;31m# df[log_C] = ...\u001b[0m\u001b[1;33m\u001b[0m\u001b[1;33m\u001b[0m\u001b[1;33m\u001b[0m\u001b[0m\n\u001b[0;32m      3\u001b[0m \u001b[0mdf\u001b[0m\u001b[1;33m[\u001b[0m\u001b[1;34m'Dc'\u001b[0m\u001b[1;33m]\u001b[0m \u001b[1;33m=\u001b[0m \u001b[0mnp\u001b[0m\u001b[1;33m.\u001b[0m\u001b[0mlog\u001b[0m\u001b[1;33m(\u001b[0m\u001b[0mdf\u001b[0m\u001b[1;33m[\u001b[0m\u001b[1;34m'Konsum i husholdninger og ideelle organisasjoner'\u001b[0m\u001b[1;33m]\u001b[0m\u001b[1;33m)\u001b[0m\u001b[1;33m.\u001b[0m\u001b[0mdiff\u001b[0m\u001b[1;33m(\u001b[0m\u001b[1;36m4\u001b[0m\u001b[1;33m)\u001b[0m\u001b[1;33m\u001b[0m\u001b[1;33m\u001b[0m\u001b[0m\n\u001b[1;32m----> 4\u001b[1;33m \u001b[0mDdf\u001b[0m \u001b[1;33m=\u001b[0m \u001b[0mdf\u001b[0m\u001b[1;33m.\u001b[0m\u001b[0mdiff\u001b[0m\u001b[1;33m(\u001b[0m\u001b[1;36m4\u001b[0m\u001b[1;33m)\u001b[0m\u001b[1;33m\u001b[0m\u001b[1;33m\u001b[0m\u001b[0m\n\u001b[0m\u001b[0;32m      5\u001b[0m \u001b[1;31m# alternative way to make absolute diffs of all variables in a dataframe\u001b[0m\u001b[1;33m\u001b[0m\u001b[1;33m\u001b[0m\u001b[1;33m\u001b[0m\u001b[0m\n\u001b[0;32m      6\u001b[0m \u001b[1;33m\u001b[0m\u001b[0m\n",
      "\u001b[1;32mc:\\programdata\\anaconda3\\lib\\site-packages\\pandas\\core\\frame.py\u001b[0m in \u001b[0;36mdiff\u001b[1;34m(self, periods, axis)\u001b[0m\n\u001b[0;32m   5729\u001b[0m         \"\"\"\n\u001b[0;32m   5730\u001b[0m         \u001b[0mbm_axis\u001b[0m \u001b[1;33m=\u001b[0m \u001b[0mself\u001b[0m\u001b[1;33m.\u001b[0m\u001b[0m_get_block_manager_axis\u001b[0m\u001b[1;33m(\u001b[0m\u001b[0maxis\u001b[0m\u001b[1;33m)\u001b[0m\u001b[1;33m\u001b[0m\u001b[1;33m\u001b[0m\u001b[0m\n\u001b[1;32m-> 5731\u001b[1;33m         \u001b[0mnew_data\u001b[0m \u001b[1;33m=\u001b[0m \u001b[0mself\u001b[0m\u001b[1;33m.\u001b[0m\u001b[0m_data\u001b[0m\u001b[1;33m.\u001b[0m\u001b[0mdiff\u001b[0m\u001b[1;33m(\u001b[0m\u001b[0mn\u001b[0m\u001b[1;33m=\u001b[0m\u001b[0mperiods\u001b[0m\u001b[1;33m,\u001b[0m \u001b[0maxis\u001b[0m\u001b[1;33m=\u001b[0m\u001b[0mbm_axis\u001b[0m\u001b[1;33m)\u001b[0m\u001b[1;33m\u001b[0m\u001b[1;33m\u001b[0m\u001b[0m\n\u001b[0m\u001b[0;32m   5732\u001b[0m         \u001b[1;32mreturn\u001b[0m \u001b[0mself\u001b[0m\u001b[1;33m.\u001b[0m\u001b[0m_constructor\u001b[0m\u001b[1;33m(\u001b[0m\u001b[0mnew_data\u001b[0m\u001b[1;33m)\u001b[0m\u001b[1;33m\u001b[0m\u001b[1;33m\u001b[0m\u001b[0m\n\u001b[0;32m   5733\u001b[0m \u001b[1;33m\u001b[0m\u001b[0m\n",
      "\u001b[1;32mc:\\programdata\\anaconda3\\lib\\site-packages\\pandas\\core\\internals.py\u001b[0m in \u001b[0;36mdiff\u001b[1;34m(self, **kwargs)\u001b[0m\n\u001b[0;32m   3697\u001b[0m \u001b[1;33m\u001b[0m\u001b[0m\n\u001b[0;32m   3698\u001b[0m     \u001b[1;32mdef\u001b[0m \u001b[0mdiff\u001b[0m\u001b[1;33m(\u001b[0m\u001b[0mself\u001b[0m\u001b[1;33m,\u001b[0m \u001b[1;33m**\u001b[0m\u001b[0mkwargs\u001b[0m\u001b[1;33m)\u001b[0m\u001b[1;33m:\u001b[0m\u001b[1;33m\u001b[0m\u001b[1;33m\u001b[0m\u001b[0m\n\u001b[1;32m-> 3699\u001b[1;33m         \u001b[1;32mreturn\u001b[0m \u001b[0mself\u001b[0m\u001b[1;33m.\u001b[0m\u001b[0mapply\u001b[0m\u001b[1;33m(\u001b[0m\u001b[1;34m'diff'\u001b[0m\u001b[1;33m,\u001b[0m \u001b[1;33m**\u001b[0m\u001b[0mkwargs\u001b[0m\u001b[1;33m)\u001b[0m\u001b[1;33m\u001b[0m\u001b[1;33m\u001b[0m\u001b[0m\n\u001b[0m\u001b[0;32m   3700\u001b[0m \u001b[1;33m\u001b[0m\u001b[0m\n\u001b[0;32m   3701\u001b[0m     \u001b[1;32mdef\u001b[0m \u001b[0minterpolate\u001b[0m\u001b[1;33m(\u001b[0m\u001b[0mself\u001b[0m\u001b[1;33m,\u001b[0m \u001b[1;33m**\u001b[0m\u001b[0mkwargs\u001b[0m\u001b[1;33m)\u001b[0m\u001b[1;33m:\u001b[0m\u001b[1;33m\u001b[0m\u001b[1;33m\u001b[0m\u001b[0m\n",
      "\u001b[1;32mc:\\programdata\\anaconda3\\lib\\site-packages\\pandas\\core\\internals.py\u001b[0m in \u001b[0;36mapply\u001b[1;34m(self, f, axes, filter, do_integrity_check, consolidate, **kwargs)\u001b[0m\n\u001b[0;32m   3579\u001b[0m \u001b[1;33m\u001b[0m\u001b[0m\n\u001b[0;32m   3580\u001b[0m             \u001b[0mkwargs\u001b[0m\u001b[1;33m[\u001b[0m\u001b[1;34m'mgr'\u001b[0m\u001b[1;33m]\u001b[0m \u001b[1;33m=\u001b[0m \u001b[0mself\u001b[0m\u001b[1;33m\u001b[0m\u001b[1;33m\u001b[0m\u001b[0m\n\u001b[1;32m-> 3581\u001b[1;33m             \u001b[0mapplied\u001b[0m \u001b[1;33m=\u001b[0m \u001b[0mgetattr\u001b[0m\u001b[1;33m(\u001b[0m\u001b[0mb\u001b[0m\u001b[1;33m,\u001b[0m \u001b[0mf\u001b[0m\u001b[1;33m)\u001b[0m\u001b[1;33m(\u001b[0m\u001b[1;33m**\u001b[0m\u001b[0mkwargs\u001b[0m\u001b[1;33m)\u001b[0m\u001b[1;33m\u001b[0m\u001b[1;33m\u001b[0m\u001b[0m\n\u001b[0m\u001b[0;32m   3582\u001b[0m             \u001b[0mresult_blocks\u001b[0m \u001b[1;33m=\u001b[0m \u001b[0m_extend_blocks\u001b[0m\u001b[1;33m(\u001b[0m\u001b[0mapplied\u001b[0m\u001b[1;33m,\u001b[0m \u001b[0mresult_blocks\u001b[0m\u001b[1;33m)\u001b[0m\u001b[1;33m\u001b[0m\u001b[1;33m\u001b[0m\u001b[0m\n\u001b[0;32m   3583\u001b[0m \u001b[1;33m\u001b[0m\u001b[0m\n",
      "\u001b[1;32mc:\\programdata\\anaconda3\\lib\\site-packages\\pandas\\core\\internals.py\u001b[0m in \u001b[0;36mdiff\u001b[1;34m(self, n, axis, mgr)\u001b[0m\n\u001b[0;32m   1275\u001b[0m     \u001b[1;32mdef\u001b[0m \u001b[0mdiff\u001b[0m\u001b[1;33m(\u001b[0m\u001b[0mself\u001b[0m\u001b[1;33m,\u001b[0m \u001b[0mn\u001b[0m\u001b[1;33m,\u001b[0m \u001b[0maxis\u001b[0m\u001b[1;33m=\u001b[0m\u001b[1;36m1\u001b[0m\u001b[1;33m,\u001b[0m \u001b[0mmgr\u001b[0m\u001b[1;33m=\u001b[0m\u001b[1;32mNone\u001b[0m\u001b[1;33m)\u001b[0m\u001b[1;33m:\u001b[0m\u001b[1;33m\u001b[0m\u001b[1;33m\u001b[0m\u001b[0m\n\u001b[0;32m   1276\u001b[0m         \u001b[1;34m\"\"\" return block for the diff of the values \"\"\"\u001b[0m\u001b[1;33m\u001b[0m\u001b[1;33m\u001b[0m\u001b[0m\n\u001b[1;32m-> 1277\u001b[1;33m         \u001b[0mnew_values\u001b[0m \u001b[1;33m=\u001b[0m \u001b[0malgos\u001b[0m\u001b[1;33m.\u001b[0m\u001b[0mdiff\u001b[0m\u001b[1;33m(\u001b[0m\u001b[0mself\u001b[0m\u001b[1;33m.\u001b[0m\u001b[0mvalues\u001b[0m\u001b[1;33m,\u001b[0m \u001b[0mn\u001b[0m\u001b[1;33m,\u001b[0m \u001b[0maxis\u001b[0m\u001b[1;33m=\u001b[0m\u001b[0maxis\u001b[0m\u001b[1;33m)\u001b[0m\u001b[1;33m\u001b[0m\u001b[1;33m\u001b[0m\u001b[0m\n\u001b[0m\u001b[0;32m   1278\u001b[0m         \u001b[1;32mreturn\u001b[0m \u001b[1;33m[\u001b[0m\u001b[0mself\u001b[0m\u001b[1;33m.\u001b[0m\u001b[0mmake_block\u001b[0m\u001b[1;33m(\u001b[0m\u001b[0mvalues\u001b[0m\u001b[1;33m=\u001b[0m\u001b[0mnew_values\u001b[0m\u001b[1;33m)\u001b[0m\u001b[1;33m]\u001b[0m\u001b[1;33m\u001b[0m\u001b[1;33m\u001b[0m\u001b[0m\n\u001b[0;32m   1279\u001b[0m \u001b[1;33m\u001b[0m\u001b[0m\n",
      "\u001b[1;32mc:\\programdata\\anaconda3\\lib\\site-packages\\pandas\\core\\algorithms.py\u001b[0m in \u001b[0;36mdiff\u001b[1;34m(arr, n, axis)\u001b[0m\n\u001b[0;32m   1821\u001b[0m             \u001b[0mout_arr\u001b[0m\u001b[1;33m[\u001b[0m\u001b[0mres_indexer\u001b[0m\u001b[1;33m]\u001b[0m \u001b[1;33m=\u001b[0m \u001b[0mresult\u001b[0m\u001b[1;33m\u001b[0m\u001b[1;33m\u001b[0m\u001b[0m\n\u001b[0;32m   1822\u001b[0m         \u001b[1;32melse\u001b[0m\u001b[1;33m:\u001b[0m\u001b[1;33m\u001b[0m\u001b[1;33m\u001b[0m\u001b[0m\n\u001b[1;32m-> 1823\u001b[1;33m             \u001b[0mout_arr\u001b[0m\u001b[1;33m[\u001b[0m\u001b[0mres_indexer\u001b[0m\u001b[1;33m]\u001b[0m \u001b[1;33m=\u001b[0m \u001b[0marr\u001b[0m\u001b[1;33m[\u001b[0m\u001b[0mres_indexer\u001b[0m\u001b[1;33m]\u001b[0m \u001b[1;33m-\u001b[0m \u001b[0marr\u001b[0m\u001b[1;33m[\u001b[0m\u001b[0mlag_indexer\u001b[0m\u001b[1;33m]\u001b[0m\u001b[1;33m\u001b[0m\u001b[1;33m\u001b[0m\u001b[0m\n\u001b[0m\u001b[0;32m   1824\u001b[0m \u001b[1;33m\u001b[0m\u001b[0m\n\u001b[0;32m   1825\u001b[0m     \u001b[1;32mif\u001b[0m \u001b[0mis_timedelta\u001b[0m\u001b[1;33m:\u001b[0m\u001b[1;33m\u001b[0m\u001b[1;33m\u001b[0m\u001b[0m\n",
      "\u001b[1;31mTypeError\u001b[0m: unsupported operand type(s) for -: 'str' and 'str'"
     ]
    }
   ],
   "source": [
    "# Create growth rates:\n",
    "# df[log_C] = ...\n",
    "df['Dc'] = np.log(df['Konsum i husholdninger og ideelle organisasjoner']).diff(4)\n",
    "Ddf = df.diff(4) \n",
    "# alternative way to make absolute diffs of all variables in a dataframe\n",
    " \n",
    "df['DC_Y'] = df['Konsum i husholdninger og ideelle organisasjoner'].diff(4)/(df['Bruttonasjonalprodukt Fastlands-Norge, markedsverdi'].shift(4))\n",
    "# Remember that using difference of the logarithm is an approximation that works as long as the relavtive change is small\n",
    "# Note small letters for logarithms"
   ]
  },
  {
   "cell_type": "code",
   "execution_count": 10,
   "metadata": {},
   "outputs": [
    {
     "ename": "NameError",
     "evalue": "name 'Ddf' is not defined",
     "output_type": "error",
     "traceback": [
      "\u001b[1;31m---------------------------------------------------------------------------\u001b[0m",
      "\u001b[1;31mNameError\u001b[0m                                 Traceback (most recent call last)",
      "\u001b[1;32m<ipython-input-10-615c3c60265c>\u001b[0m in \u001b[0;36m<module>\u001b[1;34m()\u001b[0m\n\u001b[0;32m      1\u001b[0m \u001b[1;31m# Figure with title and legend\u001b[0m\u001b[1;33m\u001b[0m\u001b[1;33m\u001b[0m\u001b[1;33m\u001b[0m\u001b[0m\n\u001b[1;32m----> 2\u001b[1;33m \u001b[0mDdf\u001b[0m\u001b[1;33m[\u001b[0m\u001b[1;34m'Konsum i husholdninger og ideelle organisasjoner'\u001b[0m\u001b[1;33m]\u001b[0m\u001b[1;33m.\u001b[0m\u001b[0mplot\u001b[0m\u001b[1;33m(\u001b[0m\u001b[1;33m)\u001b[0m\u001b[1;33m\u001b[0m\u001b[1;33m\u001b[0m\u001b[0m\n\u001b[0m\u001b[0;32m      3\u001b[0m \u001b[0mplt\u001b[0m\u001b[1;33m.\u001b[0m\u001b[0mtitle\u001b[0m\u001b[1;33m(\u001b[0m\u001b[1;34m\"Figure 1.2: Yearly change in consumption\"\u001b[0m\u001b[1;33m)\u001b[0m\u001b[1;33m\u001b[0m\u001b[1;33m\u001b[0m\u001b[0m\n\u001b[0;32m      4\u001b[0m \u001b[0mplt\u001b[0m\u001b[1;33m.\u001b[0m\u001b[0mlegend\u001b[0m\u001b[1;33m(\u001b[0m\u001b[1;33m)\u001b[0m\u001b[1;33m\u001b[0m\u001b[1;33m\u001b[0m\u001b[0m\n\u001b[0;32m      5\u001b[0m \u001b[0mplt\u001b[0m\u001b[1;33m.\u001b[0m\u001b[0mxlabel\u001b[0m\u001b[1;33m(\u001b[0m\u001b[1;34m'Date'\u001b[0m\u001b[1;33m,\u001b[0m \u001b[0mfontdict\u001b[0m\u001b[1;33m=\u001b[0m\u001b[1;32mNone\u001b[0m\u001b[1;33m,\u001b[0m \u001b[0mlabelpad\u001b[0m\u001b[1;33m=\u001b[0m\u001b[1;32mNone\u001b[0m\u001b[1;33m)\u001b[0m\u001b[1;33m\u001b[0m\u001b[1;33m\u001b[0m\u001b[0m\n",
      "\u001b[1;31mNameError\u001b[0m: name 'Ddf' is not defined"
     ]
    }
   ],
   "source": [
    "# Figure with title and legend\n",
    "Ddf['Konsum i husholdninger og ideelle organisasjoner'].plot()\n",
    "plt.title(\"Figure 1.2: Yearly change in consumption\")\n",
    "plt.legend()\n",
    "plt.xlabel('Date', fontdict=None, labelpad=None)\n",
    "plt.ylabel('MNOK')\n",
    "\n",
    "# save figure and use in presentataion etc. \n",
    "filename = folder + 'consumption2.png'\n",
    "plt.savefig(filename)\n",
    "plt.show()"
   ]
  },
  {
   "cell_type": "code",
   "execution_count": null,
   "metadata": {},
   "outputs": [],
   "source": [
    "# Figure with title and legend\n",
    "df['DC_Y'].plot()\n",
    "plt.title(\"Figure 1.3: Contributions from consumption to GDP-growth\")\n",
    "plt.legend()\n",
    "plt.xlabel('Date', fontdict=None, labelpad=None)\n",
    "plt.ylabel('Percentage points')\n",
    "\n",
    "# save figure and use in presentataion etc. \n",
    "filename = folder + 'consumption3.png'\n",
    "plt.savefig(filename)\n",
    "plt.show()\n"
   ]
  },
  {
   "cell_type": "code",
   "execution_count": null,
   "metadata": {},
   "outputs": [],
   "source": []
  },
  {
   "cell_type": "code",
   "execution_count": null,
   "metadata": {},
   "outputs": [],
   "source": [
    "# df['2008Q1':'2010Q4']"
   ]
  },
  {
   "cell_type": "code",
   "execution_count": null,
   "metadata": {},
   "outputs": [],
   "source": [
    "# Make main components of GDP as a share of GDP\n",
    "df['C_Y'] = df['Konsum i husholdninger og ideelle organisasjoner']/df['Bruttonasjonalprodukt, markedsverdi']\n",
    "df['G_Y'] = df['Konsum i offentlig forvaltning']/df['Bruttonasjonalprodukt, markedsverdi']\n",
    "df['I_Y'] = df['Bruttoinvestering i fast realkapital']/df['Bruttonasjonalprodukt, markedsverdi']\n",
    "df['NX'] = df['Eksport i alt']-df['Import i alt']\n",
    "df['NX_Y'] = df['NX']/df['Bruttonasjonalprodukt, markedsverdi']"
   ]
  },
  {
   "cell_type": "code",
   "execution_count": null,
   "metadata": {},
   "outputs": [],
   "source": [
    "# Find mean of main compontents of GDP as a share of GDP\n",
    "df.mean()\n",
    "# or\n",
    "df.describe()\n",
    "# or\n",
    "maincomp = ['C_Y', 'G_Y', 'I_Y', 'NX_Y']\n",
    "df[maincomp].mean()\n",
    "#need a filter for year?\n",
    "print('Main components share of GDP'), print(df[maincomp]['2019Q1'].mean())\n"
   ]
  },
  {
   "cell_type": "code",
   "execution_count": null,
   "metadata": {},
   "outputs": [],
   "source": []
  }
 ],
 "metadata": {
  "kernelspec": {
   "display_name": "Python 3",
   "language": "python",
   "name": "python3"
  },
  "language_info": {
   "codemirror_mode": {
    "name": "ipython",
    "version": 3
   },
   "file_extension": ".py",
   "mimetype": "text/x-python",
   "name": "python",
   "nbconvert_exporter": "python",
   "pygments_lexer": "ipython3",
   "version": "3.6.7"
  }
 },
 "nbformat": 4,
 "nbformat_minor": 2
}
