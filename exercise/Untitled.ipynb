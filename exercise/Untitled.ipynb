{
 "cells": [
  {
   "cell_type": "markdown",
   "id": "9b7ba160-541d-4d10-8801-ae6aa9ec30b9",
   "metadata": {},
   "source": [
    "# Makroøkonomi\n"
   ]
  },
  {
   "cell_type": "code",
   "execution_count": 1,
   "id": "f54db5a5-fe46-46c8-b2e1-609aa3cc3023",
   "metadata": {},
   "outputs": [],
   "source": [
    "import pandas as pd\n",
    "import matplotlib.pyplot as plt"
   ]
  },
  {
   "cell_type": "code",
   "execution_count": null,
   "id": "d8a20a2a-d6fb-45f1-a327-193313916b8b",
   "metadata": {},
   "outputs": [],
   "source": []
  },
  {
   "cell_type": "code",
   "execution_count": null,
   "id": "24161b59-3d25-410f-8ad1-bd3c46e2d33a",
   "metadata": {},
   "outputs": [],
   "source": []
  },
  {
   "cell_type": "code",
   "execution_count": null,
   "id": "50a55250-001d-4c4c-bc4e-07bffcc7554b",
   "metadata": {},
   "outputs": [],
   "source": []
  }
 ],
 "metadata": {
  "kernelspec": {
   "display_name": "Python 3 (ipykernel)",
   "language": "python",
   "name": "python3"
  },
  "language_info": {
   "codemirror_mode": {
    "name": "ipython",
    "version": 3
   },
   "file_extension": ".py",
   "mimetype": "text/x-python",
   "name": "python",
   "nbconvert_exporter": "python",
   "pygments_lexer": "ipython3",
   "version": "3.9.7"
  }
 },
 "nbformat": 4,
 "nbformat_minor": 5
}
