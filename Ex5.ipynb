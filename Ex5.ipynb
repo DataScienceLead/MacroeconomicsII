{
 "cells": [
  {
   "cell_type": "markdown",
   "metadata": {},
   "source": [
    "# Excerise 5 -- estimation of a keynesian consumption equation\n",
    "* Joakim Blix Prestmo\n",
    "* 01.11.2018"
   ]
  },
  {
   "cell_type": "code",
   "execution_count": 1,
   "metadata": {},
   "outputs": [],
   "source": [
    "import pandas as pd\n",
    "#import matplotlib as plt\n",
    "import matplotlib.pyplot as plt\n",
    "import datetime\n",
    "import numpy as np"
   ]
  },
  {
   "cell_type": "code",
   "execution_count": 67,
   "metadata": {},
   "outputs": [],
   "source": [
    "df = pd.read_excel(\"../MakroData.xlsx\", sheet_name=\"Ark5\")\n",
    "df_macro = pd.read_excel(\"http://www.ssb.no/statbank/sq/10010628/\", skiprows=3, nrows=162)"
   ]
  },
  {
   "cell_type": "code",
   "execution_count": 68,
   "metadata": {},
   "outputs": [
    {
     "data": {
      "text/html": [
       "<div>\n",
       "<style scoped>\n",
       "    .dataframe tbody tr th:only-of-type {\n",
       "        vertical-align: middle;\n",
       "    }\n",
       "\n",
       "    .dataframe tbody tr th {\n",
       "        vertical-align: top;\n",
       "    }\n",
       "\n",
       "    .dataframe thead th {\n",
       "        text-align: right;\n",
       "    }\n",
       "</style>\n",
       "<table border=\"1\" class=\"dataframe\">\n",
       "  <thead>\n",
       "    <tr style=\"text-align: right;\">\n",
       "      <th></th>\n",
       "      <th>PBOL</th>\n",
       "      <th>K83</th>\n",
       "      <th>RD300</th>\n",
       "      <th>RAM300</th>\n",
       "      <th>NB</th>\n",
       "      <th>BEF1574</th>\n",
       "      <th>NT</th>\n",
       "      <th>ntot</th>\n",
       "      <th>BF300</th>\n",
       "      <th>BG300</th>\n",
       "      <th>...</th>\n",
       "      <th>Y66</th>\n",
       "      <th>Y65</th>\n",
       "      <th>Y6</th>\n",
       "      <th>KPI</th>\n",
       "      <th>ww</th>\n",
       "      <th>YE</th>\n",
       "      <th>yei300</th>\n",
       "      <th>yei100</th>\n",
       "      <th>RENREALLONG</th>\n",
       "      <th>pbkgamma</th>\n",
       "    </tr>\n",
       "  </thead>\n",
       "  <tbody>\n",
       "    <tr>\n",
       "      <th>1978-01</th>\n",
       "      <td>0.10272</td>\n",
       "      <td>1.247729e+06</td>\n",
       "      <td>30660.23088</td>\n",
       "      <td>78.5</td>\n",
       "      <td>4055.18675</td>\n",
       "      <td>2892.92766</td>\n",
       "      <td>ND</td>\n",
       "      <td>1868.51558</td>\n",
       "      <td>137245.84375</td>\n",
       "      <td>117992.60156</td>\n",
       "      <td>...</td>\n",
       "      <td>4001.10214</td>\n",
       "      <td>1840.03003</td>\n",
       "      <td>51160.40262</td>\n",
       "      <td>0.218255</td>\n",
       "      <td>40.73216</td>\n",
       "      <td>7169.00218</td>\n",
       "      <td>6879.75</td>\n",
       "      <td>688.25</td>\n",
       "      <td>G        0.00500</td>\n",
       "      <td>0.025</td>\n",
       "    </tr>\n",
       "    <tr>\n",
       "      <th>1978-02</th>\n",
       "      <td>0.10702</td>\n",
       "      <td>1.262613e+06</td>\n",
       "      <td>31641.81006</td>\n",
       "      <td>78.5</td>\n",
       "      <td>4059.21146</td>\n",
       "      <td>2897.92249</td>\n",
       "      <td>ND</td>\n",
       "      <td>1884.55472</td>\n",
       "      <td>139720.28125</td>\n",
       "      <td>121831.46875</td>\n",
       "      <td>...</td>\n",
       "      <td>2951.41052</td>\n",
       "      <td>1839.29358</td>\n",
       "      <td>54685.59631</td>\n",
       "      <td>0.225750</td>\n",
       "      <td>41.68868</td>\n",
       "      <td>10115.45120</td>\n",
       "      <td>6879.75</td>\n",
       "      <td>688.25</td>\n",
       "      <td>0.005</td>\n",
       "      <td>0.025</td>\n",
       "    </tr>\n",
       "    <tr>\n",
       "      <th>1978-03</th>\n",
       "      <td>0.11116</td>\n",
       "      <td>1.279843e+06</td>\n",
       "      <td>31853.51051</td>\n",
       "      <td>78.5</td>\n",
       "      <td>4063.28041</td>\n",
       "      <td>2902.97249</td>\n",
       "      <td>ND</td>\n",
       "      <td>1865.15321</td>\n",
       "      <td>140142.43750</td>\n",
       "      <td>124409.70313</td>\n",
       "      <td>...</td>\n",
       "      <td>3647.62540</td>\n",
       "      <td>2012.99174</td>\n",
       "      <td>57741.30455</td>\n",
       "      <td>0.240648</td>\n",
       "      <td>48.71819</td>\n",
       "      <td>16528.32300</td>\n",
       "      <td>6879.75</td>\n",
       "      <td>688.25</td>\n",
       "      <td>0.005</td>\n",
       "      <td>0.025</td>\n",
       "    </tr>\n",
       "    <tr>\n",
       "      <th>1978-04</th>\n",
       "      <td>0.11499</td>\n",
       "      <td>1.296472e+06</td>\n",
       "      <td>32344.44765</td>\n",
       "      <td>78.5</td>\n",
       "      <td>4067.34930</td>\n",
       "      <td>2908.05008</td>\n",
       "      <td>ND</td>\n",
       "      <td>1888.17652</td>\n",
       "      <td>147638.00000</td>\n",
       "      <td>131623.71875</td>\n",
       "      <td>...</td>\n",
       "      <td>3009.86194</td>\n",
       "      <td>2189.68465</td>\n",
       "      <td>58799.68775</td>\n",
       "      <td>0.231967</td>\n",
       "      <td>42.13985</td>\n",
       "      <td>15809.21684</td>\n",
       "      <td>6879.75</td>\n",
       "      <td>688.25</td>\n",
       "      <td>0.005</td>\n",
       "      <td>0.025</td>\n",
       "    </tr>\n",
       "    <tr>\n",
       "      <th>1979-01</th>\n",
       "      <td>0.11844</td>\n",
       "      <td>1.308271e+06</td>\n",
       "      <td>32802.68954</td>\n",
       "      <td>149.0</td>\n",
       "      <td>4070.19727</td>\n",
       "      <td>2912.91681</td>\n",
       "      <td>ND</td>\n",
       "      <td>1891.77716</td>\n",
       "      <td>153980.68750</td>\n",
       "      <td>132862.85938</td>\n",
       "      <td>...</td>\n",
       "      <td>3549.74414</td>\n",
       "      <td>2064.86436</td>\n",
       "      <td>57865.93527</td>\n",
       "      <td>0.230633</td>\n",
       "      <td>41.76708</td>\n",
       "      <td>13676.67289</td>\n",
       "      <td>6879.75</td>\n",
       "      <td>844.25</td>\n",
       "      <td>0.005</td>\n",
       "      <td>0.025</td>\n",
       "    </tr>\n",
       "  </tbody>\n",
       "</table>\n",
       "<p>5 rows × 53 columns</p>\n",
       "</div>"
      ],
      "text/plain": [
       "            PBOL           K83        RD300  RAM300         NB     BEF1574   \\\n",
       "1978-01  0.10272  1.247729e+06  30660.23088    78.5  4055.18675  2892.92766   \n",
       "1978-02  0.10702  1.262613e+06  31641.81006    78.5  4059.21146  2897.92249   \n",
       "1978-03  0.11116  1.279843e+06  31853.51051    78.5  4063.28041  2902.97249   \n",
       "1978-04  0.11499  1.296472e+06  32344.44765    78.5  4067.34930  2908.05008   \n",
       "1979-01  0.11844  1.308271e+06  32802.68954   149.0  4070.19727  2912.91681   \n",
       "\n",
       "         NT        ntot         BF300         BG300    ...            Y66  \\\n",
       "1978-01  ND  1868.51558  137245.84375  117992.60156    ...     4001.10214   \n",
       "1978-02  ND  1884.55472  139720.28125  121831.46875    ...     2951.41052   \n",
       "1978-03  ND  1865.15321  140142.43750  124409.70313    ...     3647.62540   \n",
       "1978-04  ND  1888.17652  147638.00000  131623.71875    ...     3009.86194   \n",
       "1979-01  ND  1891.77716  153980.68750  132862.85938    ...     3549.74414   \n",
       "\n",
       "                Y65           Y6       KPI        ww           YE   yei300  \\\n",
       "1978-01  1840.03003  51160.40262  0.218255  40.73216   7169.00218  6879.75   \n",
       "1978-02  1839.29358  54685.59631  0.225750  41.68868  10115.45120  6879.75   \n",
       "1978-03  2012.99174  57741.30455  0.240648  48.71819  16528.32300  6879.75   \n",
       "1978-04  2189.68465  58799.68775  0.231967  42.13985  15809.21684  6879.75   \n",
       "1979-01  2064.86436  57865.93527  0.230633  41.76708  13676.67289  6879.75   \n",
       "\n",
       "         yei100       RENREALLONG  pbkgamma  \n",
       "1978-01  688.25  G        0.00500     0.025  \n",
       "1978-02  688.25             0.005     0.025  \n",
       "1978-03  688.25             0.005     0.025  \n",
       "1978-04  688.25             0.005     0.025  \n",
       "1979-01  844.25             0.005     0.025  \n",
       "\n",
       "[5 rows x 53 columns]"
      ]
     },
     "execution_count": 68,
     "metadata": {},
     "output_type": "execute_result"
    }
   ],
   "source": [
    "df.head()"
   ]
  },
  {
   "cell_type": "code",
   "execution_count": 69,
   "metadata": {},
   "outputs": [],
   "source": [
    "df_macro['Unnamed: 0'] = df_macro['Unnamed: 0'].str.replace('K','Q')\n",
    "df_macro = df_macro.drop(['Unnamed: 0'], axis=1)\n",
    "df_macro.index = pd.Index(pd.period_range('1978-01', periods=210, freq='Q'))"
   ]
  },
  {
   "cell_type": "code",
   "execution_count": 70,
   "metadata": {},
   "outputs": [],
   "source": [
    "df.index = pd.Index(pd.period_range('1978-01', periods=156, freq='Q'))\n"
   ]
  },
  {
   "cell_type": "markdown",
   "metadata": {},
   "source": [
    "# Figures\n"
   ]
  },
  {
   "cell_type": "code",
   "execution_count": 71,
   "metadata": {},
   "outputs": [
    {
     "data": {
      "image/png": "[encoded data removed]",
      "text/plain": [
       "<matplotlib.figure.Figure at 0x21cf8766c50>"
      ]
     },
     "metadata": {},
     "output_type": "display_data"
    }
   ],
   "source": [
    "# Add title and legend\n",
    "df_macro['Konsum i husholdninger og ideelle organisasjoner'].plot()\n",
    "plt.title(\"Figure 1.1: Consumption\")\n",
    "plt.legend()\n",
    "plt.xlabel('Date', fontdict=None, labelpad=None)\n",
    "plt.ylabel('MNOK')\n",
    "plt.show()\n"
   ]
  },
  {
   "cell_type": "code",
   "execution_count": 72,
   "metadata": {},
   "outputs": [
    {
     "data": {
      "image/png": "[encoded data removed]",
      "text/plain": [
       "<matplotlib.figure.Figure at 0x21cf8793e80>"
      ]
     },
     "metadata": {},
     "output_type": "display_data"
    }
   ],
   "source": [
    "# Add title and legend\n",
    "df['RENPF300BO'].plot()\n",
    "plt.title(\"Figure 2.1: Boliglånsrente\")\n",
    "plt.legend()\n",
    "plt.xlabel('Date', fontdict=None, labelpad=None)\n",
    "plt.ylabel('')\n",
    "plt.show()"
   ]
  },
  {
   "cell_type": "code",
   "execution_count": 73,
   "metadata": {},
   "outputs": [],
   "source": [
    "df_merge=df.merge(df_macro, how='left', on=None, left_on=None, left_index=True, right_index=True)"
   ]
  },
  {
   "cell_type": "code",
   "execution_count": 74,
   "metadata": {},
   "outputs": [
    {
     "data": {
      "image/png": "[encoded data removed]",
      "text/plain": [
       "<matplotlib.figure.Figure at 0x21cf8be2978>"
      ]
     },
     "metadata": {},
     "output_type": "display_data"
    }
   ],
   "source": [
    "# Add title and legend\n",
    "df_merge['Konsum i husholdninger og ideelle organisasjoner'].plot()\n",
    "plt.title(\"Figure 1.1: Consumption\")\n",
    "plt.legend()\n",
    "plt.xlabel('Date', fontdict=None, labelpad=None)\n",
    "plt.ylabel('MNOK')\n",
    "plt.show()"
   ]
  },
  {
   "cell_type": "markdown",
   "metadata": {},
   "source": [
    "# Features engineering\n"
   ]
  },
  {
   "cell_type": "code",
   "execution_count": 75,
   "metadata": {},
   "outputs": [
    {
     "ename": "KeyError",
     "evalue": "'RD300-RAM300'",
     "output_type": "error",
     "traceback": [
      "\u001b[1;31m---------------------------------------------------------------------------\u001b[0m",
      "\u001b[1;31mKeyError\u001b[0m                                  Traceback (most recent call last)",
      "\u001b[1;32mc:\\programdata\\anaconda3\\lib\\site-packages\\pandas\\core\\indexes\\base.py\u001b[0m in \u001b[0;36mget_loc\u001b[1;34m(self, key, method, tolerance)\u001b[0m\n\u001b[0;32m   2524\u001b[0m             \u001b[1;32mtry\u001b[0m\u001b[1;33m:\u001b[0m\u001b[1;33m\u001b[0m\u001b[0m\n\u001b[1;32m-> 2525\u001b[1;33m                 \u001b[1;32mreturn\u001b[0m \u001b[0mself\u001b[0m\u001b[1;33m.\u001b[0m\u001b[0m_engine\u001b[0m\u001b[1;33m.\u001b[0m\u001b[0mget_loc\u001b[0m\u001b[1;33m(\u001b[0m\u001b[0mkey\u001b[0m\u001b[1;33m)\u001b[0m\u001b[1;33m\u001b[0m\u001b[0m\n\u001b[0m\u001b[0;32m   2526\u001b[0m             \u001b[1;32mexcept\u001b[0m \u001b[0mKeyError\u001b[0m\u001b[1;33m:\u001b[0m\u001b[1;33m\u001b[0m\u001b[0m\n",
      "\u001b[1;32mpandas/_libs/index.pyx\u001b[0m in \u001b[0;36mpandas._libs.index.IndexEngine.get_loc\u001b[1;34m()\u001b[0m\n",
      "\u001b[1;32mpandas/_libs/index.pyx\u001b[0m in \u001b[0;36mpandas._libs.index.IndexEngine.get_loc\u001b[1;34m()\u001b[0m\n",
      "\u001b[1;32mpandas/_libs/hashtable_class_helper.pxi\u001b[0m in \u001b[0;36mpandas._libs.hashtable.PyObjectHashTable.get_item\u001b[1;34m()\u001b[0m\n",
      "\u001b[1;32mpandas/_libs/hashtable_class_helper.pxi\u001b[0m in \u001b[0;36mpandas._libs.hashtable.PyObjectHashTable.get_item\u001b[1;34m()\u001b[0m\n",
      "\u001b[1;31mKeyError\u001b[0m: 'RD300-RAM300'",
      "\nDuring handling of the above exception, another exception occurred:\n",
      "\u001b[1;31mKeyError\u001b[0m                                  Traceback (most recent call last)",
      "\u001b[1;32m<ipython-input-75-5ecc893fab4e>\u001b[0m in \u001b[0;36m<module>\u001b[1;34m()\u001b[0m\n\u001b[0;32m      4\u001b[0m \u001b[0mdf_merge\u001b[0m\u001b[1;33m[\u001b[0m\u001b[1;34m'Dc'\u001b[0m\u001b[1;33m]\u001b[0m \u001b[1;33m=\u001b[0m \u001b[0mnp\u001b[0m\u001b[1;33m.\u001b[0m\u001b[0mlog\u001b[0m\u001b[1;33m(\u001b[0m\u001b[0mdf_merge\u001b[0m\u001b[1;33m[\u001b[0m\u001b[1;34m'Konsum i husholdninger og ideelle organisasjoner'\u001b[0m\u001b[1;33m]\u001b[0m\u001b[1;33m)\u001b[0m\u001b[1;33m.\u001b[0m\u001b[0mdiff\u001b[0m\u001b[1;33m(\u001b[0m\u001b[1;36m4\u001b[0m\u001b[1;33m)\u001b[0m\u001b[1;33m\u001b[0m\u001b[0m\n\u001b[0;32m      5\u001b[0m \u001b[0mdf_merge\u001b[0m\u001b[1;33m[\u001b[0m\u001b[1;34m'YD'\u001b[0m\u001b[1;33m]\u001b[0m \u001b[1;33m=\u001b[0m \u001b[1;33m(\u001b[0m\u001b[0mdf_merge\u001b[0m\u001b[1;33m[\u001b[0m\u001b[1;34m'RD300'\u001b[0m\u001b[1;33m]\u001b[0m\u001b[1;33m-\u001b[0m\u001b[0mdf_merge\u001b[0m\u001b[1;33m[\u001b[0m\u001b[1;34m'RAM300'\u001b[0m\u001b[1;33m]\u001b[0m\u001b[1;33m)\u001b[0m\u001b[1;33m/\u001b[0m\u001b[0mdf_merge\u001b[0m\u001b[1;33m[\u001b[0m\u001b[1;34m'KPI'\u001b[0m\u001b[1;33m]\u001b[0m\u001b[1;33m\u001b[0m\u001b[0m\n\u001b[1;32m----> 6\u001b[1;33m \u001b[0mdf_merge\u001b[0m\u001b[1;33m[\u001b[0m\u001b[1;34m'Dyd'\u001b[0m\u001b[1;33m]\u001b[0m \u001b[1;33m=\u001b[0m \u001b[0mnp\u001b[0m\u001b[1;33m.\u001b[0m\u001b[0mlog\u001b[0m\u001b[1;33m(\u001b[0m\u001b[0mdf_merge\u001b[0m\u001b[1;33m[\u001b[0m\u001b[1;34m'RD300-RAM300'\u001b[0m\u001b[1;33m]\u001b[0m\u001b[1;33m)\u001b[0m\u001b[1;33m.\u001b[0m\u001b[0mdiff\u001b[0m\u001b[1;33m(\u001b[0m\u001b[1;36m4\u001b[0m\u001b[1;33m)\u001b[0m\u001b[1;33m\u001b[0m\u001b[0m\n\u001b[0m\u001b[0;32m      7\u001b[0m \u001b[1;33m\u001b[0m\u001b[0m\n\u001b[0;32m      8\u001b[0m \u001b[0mdf_merge\u001b[0m\u001b[1;33m[\u001b[0m\u001b[1;34m'yd_1'\u001b[0m\u001b[1;33m]\u001b[0m \u001b[1;33m=\u001b[0m \u001b[0mnp\u001b[0m\u001b[1;33m.\u001b[0m\u001b[0mlog\u001b[0m\u001b[1;33m(\u001b[0m\u001b[0mdf_merge\u001b[0m\u001b[1;33m[\u001b[0m\u001b[1;34m'RD300-RAM300'\u001b[0m\u001b[1;33m]\u001b[0m\u001b[1;33m)\u001b[0m\u001b[1;33m.\u001b[0m\u001b[0mshift\u001b[0m\u001b[1;33m(\u001b[0m\u001b[1;36m1\u001b[0m\u001b[1;33m)\u001b[0m\u001b[1;33m\u001b[0m\u001b[0m\n",
      "\u001b[1;32mc:\\programdata\\anaconda3\\lib\\site-packages\\pandas\\core\\frame.py\u001b[0m in \u001b[0;36m__getitem__\u001b[1;34m(self, key)\u001b[0m\n\u001b[0;32m   2137\u001b[0m             \u001b[1;32mreturn\u001b[0m \u001b[0mself\u001b[0m\u001b[1;33m.\u001b[0m\u001b[0m_getitem_multilevel\u001b[0m\u001b[1;33m(\u001b[0m\u001b[0mkey\u001b[0m\u001b[1;33m)\u001b[0m\u001b[1;33m\u001b[0m\u001b[0m\n\u001b[0;32m   2138\u001b[0m         \u001b[1;32melse\u001b[0m\u001b[1;33m:\u001b[0m\u001b[1;33m\u001b[0m\u001b[0m\n\u001b[1;32m-> 2139\u001b[1;33m             \u001b[1;32mreturn\u001b[0m \u001b[0mself\u001b[0m\u001b[1;33m.\u001b[0m\u001b[0m_getitem_column\u001b[0m\u001b[1;33m(\u001b[0m\u001b[0mkey\u001b[0m\u001b[1;33m)\u001b[0m\u001b[1;33m\u001b[0m\u001b[0m\n\u001b[0m\u001b[0;32m   2140\u001b[0m \u001b[1;33m\u001b[0m\u001b[0m\n\u001b[0;32m   2141\u001b[0m     \u001b[1;32mdef\u001b[0m \u001b[0m_getitem_column\u001b[0m\u001b[1;33m(\u001b[0m\u001b[0mself\u001b[0m\u001b[1;33m,\u001b[0m \u001b[0mkey\u001b[0m\u001b[1;33m)\u001b[0m\u001b[1;33m:\u001b[0m\u001b[1;33m\u001b[0m\u001b[0m\n",
      "\u001b[1;32mc:\\programdata\\anaconda3\\lib\\site-packages\\pandas\\core\\frame.py\u001b[0m in \u001b[0;36m_getitem_column\u001b[1;34m(self, key)\u001b[0m\n\u001b[0;32m   2144\u001b[0m         \u001b[1;31m# get column\u001b[0m\u001b[1;33m\u001b[0m\u001b[1;33m\u001b[0m\u001b[0m\n\u001b[0;32m   2145\u001b[0m         \u001b[1;32mif\u001b[0m \u001b[0mself\u001b[0m\u001b[1;33m.\u001b[0m\u001b[0mcolumns\u001b[0m\u001b[1;33m.\u001b[0m\u001b[0mis_unique\u001b[0m\u001b[1;33m:\u001b[0m\u001b[1;33m\u001b[0m\u001b[0m\n\u001b[1;32m-> 2146\u001b[1;33m             \u001b[1;32mreturn\u001b[0m \u001b[0mself\u001b[0m\u001b[1;33m.\u001b[0m\u001b[0m_get_item_cache\u001b[0m\u001b[1;33m(\u001b[0m\u001b[0mkey\u001b[0m\u001b[1;33m)\u001b[0m\u001b[1;33m\u001b[0m\u001b[0m\n\u001b[0m\u001b[0;32m   2147\u001b[0m \u001b[1;33m\u001b[0m\u001b[0m\n\u001b[0;32m   2148\u001b[0m         \u001b[1;31m# duplicate columns & possible reduce dimensionality\u001b[0m\u001b[1;33m\u001b[0m\u001b[1;33m\u001b[0m\u001b[0m\n",
      "\u001b[1;32mc:\\programdata\\anaconda3\\lib\\site-packages\\pandas\\core\\generic.py\u001b[0m in \u001b[0;36m_get_item_cache\u001b[1;34m(self, item)\u001b[0m\n\u001b[0;32m   1840\u001b[0m         \u001b[0mres\u001b[0m \u001b[1;33m=\u001b[0m \u001b[0mcache\u001b[0m\u001b[1;33m.\u001b[0m\u001b[0mget\u001b[0m\u001b[1;33m(\u001b[0m\u001b[0mitem\u001b[0m\u001b[1;33m)\u001b[0m\u001b[1;33m\u001b[0m\u001b[0m\n\u001b[0;32m   1841\u001b[0m         \u001b[1;32mif\u001b[0m \u001b[0mres\u001b[0m \u001b[1;32mis\u001b[0m \u001b[1;32mNone\u001b[0m\u001b[1;33m:\u001b[0m\u001b[1;33m\u001b[0m\u001b[0m\n\u001b[1;32m-> 1842\u001b[1;33m             \u001b[0mvalues\u001b[0m \u001b[1;33m=\u001b[0m \u001b[0mself\u001b[0m\u001b[1;33m.\u001b[0m\u001b[0m_data\u001b[0m\u001b[1;33m.\u001b[0m\u001b[0mget\u001b[0m\u001b[1;33m(\u001b[0m\u001b[0mitem\u001b[0m\u001b[1;33m)\u001b[0m\u001b[1;33m\u001b[0m\u001b[0m\n\u001b[0m\u001b[0;32m   1843\u001b[0m             \u001b[0mres\u001b[0m \u001b[1;33m=\u001b[0m \u001b[0mself\u001b[0m\u001b[1;33m.\u001b[0m\u001b[0m_box_item_values\u001b[0m\u001b[1;33m(\u001b[0m\u001b[0mitem\u001b[0m\u001b[1;33m,\u001b[0m \u001b[0mvalues\u001b[0m\u001b[1;33m)\u001b[0m\u001b[1;33m\u001b[0m\u001b[0m\n\u001b[0;32m   1844\u001b[0m             \u001b[0mcache\u001b[0m\u001b[1;33m[\u001b[0m\u001b[0mitem\u001b[0m\u001b[1;33m]\u001b[0m \u001b[1;33m=\u001b[0m \u001b[0mres\u001b[0m\u001b[1;33m\u001b[0m\u001b[0m\n",
      "\u001b[1;32mc:\\programdata\\anaconda3\\lib\\site-packages\\pandas\\core\\internals.py\u001b[0m in \u001b[0;36mget\u001b[1;34m(self, item, fastpath)\u001b[0m\n\u001b[0;32m   3841\u001b[0m \u001b[1;33m\u001b[0m\u001b[0m\n\u001b[0;32m   3842\u001b[0m             \u001b[1;32mif\u001b[0m \u001b[1;32mnot\u001b[0m \u001b[0misna\u001b[0m\u001b[1;33m(\u001b[0m\u001b[0mitem\u001b[0m\u001b[1;33m)\u001b[0m\u001b[1;33m:\u001b[0m\u001b[1;33m\u001b[0m\u001b[0m\n\u001b[1;32m-> 3843\u001b[1;33m                 \u001b[0mloc\u001b[0m \u001b[1;33m=\u001b[0m \u001b[0mself\u001b[0m\u001b[1;33m.\u001b[0m\u001b[0mitems\u001b[0m\u001b[1;33m.\u001b[0m\u001b[0mget_loc\u001b[0m\u001b[1;33m(\u001b[0m\u001b[0mitem\u001b[0m\u001b[1;33m)\u001b[0m\u001b[1;33m\u001b[0m\u001b[0m\n\u001b[0m\u001b[0;32m   3844\u001b[0m             \u001b[1;32melse\u001b[0m\u001b[1;33m:\u001b[0m\u001b[1;33m\u001b[0m\u001b[0m\n\u001b[0;32m   3845\u001b[0m                 \u001b[0mindexer\u001b[0m \u001b[1;33m=\u001b[0m \u001b[0mnp\u001b[0m\u001b[1;33m.\u001b[0m\u001b[0marange\u001b[0m\u001b[1;33m(\u001b[0m\u001b[0mlen\u001b[0m\u001b[1;33m(\u001b[0m\u001b[0mself\u001b[0m\u001b[1;33m.\u001b[0m\u001b[0mitems\u001b[0m\u001b[1;33m)\u001b[0m\u001b[1;33m)\u001b[0m\u001b[1;33m[\u001b[0m\u001b[0misna\u001b[0m\u001b[1;33m(\u001b[0m\u001b[0mself\u001b[0m\u001b[1;33m.\u001b[0m\u001b[0mitems\u001b[0m\u001b[1;33m)\u001b[0m\u001b[1;33m]\u001b[0m\u001b[1;33m\u001b[0m\u001b[0m\n",
      "\u001b[1;32mc:\\programdata\\anaconda3\\lib\\site-packages\\pandas\\core\\indexes\\base.py\u001b[0m in \u001b[0;36mget_loc\u001b[1;34m(self, key, method, tolerance)\u001b[0m\n\u001b[0;32m   2525\u001b[0m                 \u001b[1;32mreturn\u001b[0m \u001b[0mself\u001b[0m\u001b[1;33m.\u001b[0m\u001b[0m_engine\u001b[0m\u001b[1;33m.\u001b[0m\u001b[0mget_loc\u001b[0m\u001b[1;33m(\u001b[0m\u001b[0mkey\u001b[0m\u001b[1;33m)\u001b[0m\u001b[1;33m\u001b[0m\u001b[0m\n\u001b[0;32m   2526\u001b[0m             \u001b[1;32mexcept\u001b[0m \u001b[0mKeyError\u001b[0m\u001b[1;33m:\u001b[0m\u001b[1;33m\u001b[0m\u001b[0m\n\u001b[1;32m-> 2527\u001b[1;33m                 \u001b[1;32mreturn\u001b[0m \u001b[0mself\u001b[0m\u001b[1;33m.\u001b[0m\u001b[0m_engine\u001b[0m\u001b[1;33m.\u001b[0m\u001b[0mget_loc\u001b[0m\u001b[1;33m(\u001b[0m\u001b[0mself\u001b[0m\u001b[1;33m.\u001b[0m\u001b[0m_maybe_cast_indexer\u001b[0m\u001b[1;33m(\u001b[0m\u001b[0mkey\u001b[0m\u001b[1;33m)\u001b[0m\u001b[1;33m)\u001b[0m\u001b[1;33m\u001b[0m\u001b[0m\n\u001b[0m\u001b[0;32m   2528\u001b[0m \u001b[1;33m\u001b[0m\u001b[0m\n\u001b[0;32m   2529\u001b[0m         \u001b[0mindexer\u001b[0m \u001b[1;33m=\u001b[0m \u001b[0mself\u001b[0m\u001b[1;33m.\u001b[0m\u001b[0mget_indexer\u001b[0m\u001b[1;33m(\u001b[0m\u001b[1;33m[\u001b[0m\u001b[0mkey\u001b[0m\u001b[1;33m]\u001b[0m\u001b[1;33m,\u001b[0m \u001b[0mmethod\u001b[0m\u001b[1;33m=\u001b[0m\u001b[0mmethod\u001b[0m\u001b[1;33m,\u001b[0m \u001b[0mtolerance\u001b[0m\u001b[1;33m=\u001b[0m\u001b[0mtolerance\u001b[0m\u001b[1;33m)\u001b[0m\u001b[1;33m\u001b[0m\u001b[0m\n",
      "\u001b[1;32mpandas/_libs/index.pyx\u001b[0m in \u001b[0;36mpandas._libs.index.IndexEngine.get_loc\u001b[1;34m()\u001b[0m\n",
      "\u001b[1;32mpandas/_libs/index.pyx\u001b[0m in \u001b[0;36mpandas._libs.index.IndexEngine.get_loc\u001b[1;34m()\u001b[0m\n",
      "\u001b[1;32mpandas/_libs/hashtable_class_helper.pxi\u001b[0m in \u001b[0;36mpandas._libs.hashtable.PyObjectHashTable.get_item\u001b[1;34m()\u001b[0m\n",
      "\u001b[1;32mpandas/_libs/hashtable_class_helper.pxi\u001b[0m in \u001b[0;36mpandas._libs.hashtable.PyObjectHashTable.get_item\u001b[1;34m()\u001b[0m\n",
      "\u001b[1;31mKeyError\u001b[0m: 'RD300-RAM300'"
     ]
    }
   ],
   "source": [
    "# Create growth rates:\n",
    "# df[log_C] = ...\n",
    "df_merge['C'] = np.log(df_merge['Konsum i husholdninger og ideelle organisasjoner'])\n",
    "df_merge['Dc'] = np.log(df_merge['Konsum i husholdninger og ideelle organisasjoner']).diff(4)\n",
    "df_merge['YD'] = (df_merge['RD300']-df_merge['RAM300'])/df_merge['KPI']\n",
    "df_merge['Dyd'] = np.log(df_merge['RD300-RAM300']).diff(4)\n",
    "\n",
    "df_merge['yd_1'] = np.log(df_merge['RD300-RAM300']).shift(1)\n",
    "df_merge['c_1'] = np.log(df_merge['Konsum i husholdninger og ideelle organisasjoner']).shift(1)\n",
    "df_merge['Dkpi'] = np.log(df_merge['KPI']).diff(4)\n",
    "\n",
    "df_merge['nominellrente'] = df_merge['RENPF300BO']*4\n",
    "df_merge['realrente'] = df_merge['RENPF300BO']*4-df_merge['DKPI']\n",
    "\n",
    "df_merge['Dc_1']=(df_merge['Dc']).shift(1)\n",
    "df_merge['Dyd_1']=(df_merge['Drd300']).shift(1)\n",
    "df_merge['Dc_2']=(df_merge['Dc_1']).shift(1)\n",
    "df_merge['Dyd_2']=(df_merge['Drd300_1']).shift(1)\n"
   ]
  },
  {
   "cell_type": "code",
   "execution_count": null,
   "metadata": {},
   "outputs": [],
   "source": [
    "df_merge['Dc'].plot()\n",
    "df_merge['Dyd'].plot()\n",
    "df_merge['realrente'].plot()\n",
    "plt.title(\"Figure 1.1: Growth in consumption, interest rate and real disposable income\")\n",
    "plt.legend()\n",
    "plt.xlabel('Date', fontdict=None, labelpad=None)\n",
    "plt.ylabel('MNOK')\n",
    "plt.show()"
   ]
  },
  {
   "cell_type": "code",
   "execution_count": null,
   "metadata": {},
   "outputs": [],
   "source": [
    "df_merge['c_1'].plot()\n",
    "df_merge['yd_1'].plot()\n",
    "plt.title(\"Figure 1.1: Consumption and real disposable income\")\n",
    "plt.legend()\n",
    "plt.xlabel('Date', fontdict=None, labelpad=None)\n",
    "plt.ylabel('MNOK')\n",
    "plt.show()"
   ]
  },
  {
   "cell_type": "code",
   "execution_count": null,
   "metadata": {},
   "outputs": [],
   "source": [
    "import statsmodels.api as sm # import statsmodels \n"
   ]
  },
  {
   "cell_type": "code",
   "execution_count": null,
   "metadata": {},
   "outputs": [],
   "source": [
    "\n"
   ]
  },
  {
   "cell_type": "code",
   "execution_count": null,
   "metadata": {},
   "outputs": [],
   "source": [
    "df_merge.head()"
   ]
  },
  {
   "cell_type": "code",
   "execution_count": null,
   "metadata": {},
   "outputs": [],
   "source": [
    "df_merge['Dc'].shape, df_merge['Dyd'].shape"
   ]
  },
  {
   "cell_type": "code",
   "execution_count": null,
   "metadata": {},
   "outputs": [],
   "source": [
    "# df_merge.drop(pd.Date('1978Q1'))\n",
    "df_model = df_merge.drop(df_merge.index[[0,1,2,3,4,5]])    \n",
    "df_model['Dc'].shape, df_model['Dyd'].shape"
   ]
  },
  {
   "cell_type": "code",
   "execution_count": null,
   "metadata": {},
   "outputs": [],
   "source": [
    "df_model[['Dyd_1', 'nominellrente']]\n",
    "# df_merge[['DC']]"
   ]
  },
  {
   "cell_type": "code",
   "execution_count": null,
   "metadata": {},
   "outputs": [],
   "source": [
    "modell1 = [\"Dyd\"]\n",
    "modell2 = [\"realrente\",\"Dyd\"]\n",
    "modell3 = [\"realrente\",\"Dyd\",\"yd_1\", 'c_1']\n",
    "modell4 = [\"realrente\",\"Dc_1\",\"Dyd\",\"Dyd_1\",\"yd_1\", 'c_1']\n"
   ]
  },
  {
   "cell_type": "code",
   "execution_count": 84,
   "metadata": {},
   "outputs": [
    {
     "data": {
      "text/plain": [
       "((150, 1), (150, 7))"
      ]
     },
     "execution_count": 84,
     "metadata": {},
     "output_type": "execute_result"
    }
   ],
   "source": [
    "y = df_model[[\"Dc\"]] ## X usually means our input variables (or independent variables)\n",
    "X = df_model[modell4] ## Y usually means our output/dependent variable\n",
    "X = sm.add_constant(X) ## let's add an intercept (beta_0) to our model\n",
    "y.shape, X.shape"
   ]
  },
  {
   "cell_type": "code",
   "execution_count": 85,
   "metadata": {},
   "outputs": [],
   "source": [
    "# Note the difference in argument order\n",
    "model = sm.OLS(y,X).fit() ## sm.OLS(output, input)\n"
   ]
  },
  {
   "cell_type": "code",
   "execution_count": 86,
   "metadata": {},
   "outputs": [
    {
     "data": {
      "text/html": [
       "<table class=\"simpletable\">\n",
       "<caption>OLS Regression Results</caption>\n",
       "<tr>\n",
       "  <th>Dep. Variable:</th>           <td>Dc</td>        <th>  R-squared:         </th> <td>   0.590</td>\n",
       "</tr>\n",
       "<tr>\n",
       "  <th>Model:</th>                   <td>OLS</td>       <th>  Adj. R-squared:    </th> <td>   0.573</td>\n",
       "</tr>\n",
       "<tr>\n",
       "  <th>Method:</th>             <td>Least Squares</td>  <th>  F-statistic:       </th> <td>   34.31</td>\n",
       "</tr>\n",
       "<tr>\n",
       "  <th>Date:</th>             <td>Thu, 08 Nov 2018</td> <th>  Prob (F-statistic):</th> <td>1.93e-25</td>\n",
       "</tr>\n",
       "<tr>\n",
       "  <th>Time:</th>                 <td>20:39:24</td>     <th>  Log-Likelihood:    </th> <td>  419.78</td>\n",
       "</tr>\n",
       "<tr>\n",
       "  <th>No. Observations:</th>      <td>   150</td>      <th>  AIC:               </th> <td>  -825.6</td>\n",
       "</tr>\n",
       "<tr>\n",
       "  <th>Df Residuals:</th>          <td>   143</td>      <th>  BIC:               </th> <td>  -804.5</td>\n",
       "</tr>\n",
       "<tr>\n",
       "  <th>Df Model:</th>              <td>     6</td>      <th>                     </th>     <td> </td>   \n",
       "</tr>\n",
       "<tr>\n",
       "  <th>Covariance Type:</th>      <td>nonrobust</td>    <th>                     </th>     <td> </td>   \n",
       "</tr>\n",
       "</table>\n",
       "<table class=\"simpletable\">\n",
       "<tr>\n",
       "      <td></td>         <th>coef</th>     <th>std err</th>      <th>t</th>      <th>P>|t|</th>  <th>[0.025</th>    <th>0.975]</th>  \n",
       "</tr>\n",
       "<tr>\n",
       "  <th>const</th>     <td>   -0.1388</td> <td>    0.095</td> <td>   -1.455</td> <td> 0.148</td> <td>   -0.327</td> <td>    0.050</td>\n",
       "</tr>\n",
       "<tr>\n",
       "  <th>realrente</th> <td>   -0.0417</td> <td>    0.046</td> <td>   -0.907</td> <td> 0.366</td> <td>   -0.133</td> <td>    0.049</td>\n",
       "</tr>\n",
       "<tr>\n",
       "  <th>Dc_1</th>      <td>    0.7315</td> <td>    0.056</td> <td>   13.170</td> <td> 0.000</td> <td>    0.622</td> <td>    0.841</td>\n",
       "</tr>\n",
       "<tr>\n",
       "  <th>Dyd</th>       <td>    0.0636</td> <td>    0.068</td> <td>    0.930</td> <td> 0.354</td> <td>   -0.072</td> <td>    0.199</td>\n",
       "</tr>\n",
       "<tr>\n",
       "  <th>Dyd_1</th>     <td>    0.0326</td> <td>    0.064</td> <td>    0.509</td> <td> 0.611</td> <td>   -0.094</td> <td>    0.159</td>\n",
       "</tr>\n",
       "<tr>\n",
       "  <th>yd_1</th>      <td>    0.0590</td> <td>    0.027</td> <td>    2.147</td> <td> 0.033</td> <td>    0.005</td> <td>    0.113</td>\n",
       "</tr>\n",
       "<tr>\n",
       "  <th>c_1</th>       <td>   -0.0473</td> <td>    0.022</td> <td>   -2.127</td> <td> 0.035</td> <td>   -0.091</td> <td>   -0.003</td>\n",
       "</tr>\n",
       "</table>\n",
       "<table class=\"simpletable\">\n",
       "<tr>\n",
       "  <th>Omnibus:</th>       <td> 2.143</td> <th>  Durbin-Watson:     </th> <td>   2.285</td>\n",
       "</tr>\n",
       "<tr>\n",
       "  <th>Prob(Omnibus):</th> <td> 0.342</td> <th>  Jarque-Bera (JB):  </th> <td>   1.675</td>\n",
       "</tr>\n",
       "<tr>\n",
       "  <th>Skew:</th>          <td>-0.202</td> <th>  Prob(JB):          </th> <td>   0.433</td>\n",
       "</tr>\n",
       "<tr>\n",
       "  <th>Kurtosis:</th>      <td> 3.324</td> <th>  Cond. No.          </th> <td>1.45e+03</td>\n",
       "</tr>\n",
       "</table>"
      ],
      "text/plain": [
       "<class 'statsmodels.iolib.summary.Summary'>\n",
       "\"\"\"\n",
       "                            OLS Regression Results                            \n",
       "==============================================================================\n",
       "Dep. Variable:                     Dc   R-squared:                       0.590\n",
       "Model:                            OLS   Adj. R-squared:                  0.573\n",
       "Method:                 Least Squares   F-statistic:                     34.31\n",
       "Date:                Thu, 08 Nov 2018   Prob (F-statistic):           1.93e-25\n",
       "Time:                        20:39:24   Log-Likelihood:                 419.78\n",
       "No. Observations:                 150   AIC:                            -825.6\n",
       "Df Residuals:                     143   BIC:                            -804.5\n",
       "Df Model:                           6                                         \n",
       "Covariance Type:            nonrobust                                         \n",
       "==============================================================================\n",
       "                 coef    std err          t      P>|t|      [0.025      0.975]\n",
       "------------------------------------------------------------------------------\n",
       "const         -0.1388      0.095     -1.455      0.148      -0.327       0.050\n",
       "realrente     -0.0417      0.046     -0.907      0.366      -0.133       0.049\n",
       "Dc_1           0.7315      0.056     13.170      0.000       0.622       0.841\n",
       "Dyd            0.0636      0.068      0.930      0.354      -0.072       0.199\n",
       "Dyd_1          0.0326      0.064      0.509      0.611      -0.094       0.159\n",
       "yd_1           0.0590      0.027      2.147      0.033       0.005       0.113\n",
       "c_1           -0.0473      0.022     -2.127      0.035      -0.091      -0.003\n",
       "==============================================================================\n",
       "Omnibus:                        2.143   Durbin-Watson:                   2.285\n",
       "Prob(Omnibus):                  0.342   Jarque-Bera (JB):                1.675\n",
       "Skew:                          -0.202   Prob(JB):                        0.433\n",
       "Kurtosis:                       3.324   Cond. No.                     1.45e+03\n",
       "==============================================================================\n",
       "\n",
       "Warnings:\n",
       "[1] Standard Errors assume that the covariance matrix of the errors is correctly specified.\n",
       "[2] The condition number is large, 1.45e+03. This might indicate that there are\n",
       "strong multicollinearity or other numerical problems.\n",
       "\"\"\""
      ]
     },
     "execution_count": 86,
     "metadata": {},
     "output_type": "execute_result"
    }
   ],
   "source": [
    "#predictions = model.predict(DC)\n",
    "\n",
    "# Print out the statistics\n",
    "model.summary()"
   ]
  },
  {
   "cell_type": "code",
   "execution_count": 87,
   "metadata": {},
   "outputs": [],
   "source": [
    "# %pylab inline\n",
    "# # We pick 100 hundred points equally spaced from the min to the max //create a test-set within the range of our min-max values\n",
    "# X_prime = np.linspace(y.y.min(), y.y.max(), 100)[:, np.newaxis]\n",
    "# X_prime = sm.add_constant(X_prime) # add constant as we did before\n",
    "\n",
    "# # Now we calculate the predicted values\n",
    "# y_hat = model.predict(X_prime)\n",
    "\n",
    "# plt.scatter(df_merge['DC'], df_merge['DRD300'] , alpha=0.3) # Plot the raw data\n",
    "# plt.xlabel(\"DC\")\n",
    "# plt.ylabel(\"DRD300\")\n",
    "# plt.plot(X_prime[:, 1], y_hat, 'r', alpha=0.9) # Add the regression line, colored in red\n"
   ]
  },
  {
   "cell_type": "markdown",
   "metadata": {},
   "source": [
    "# Export data"
   ]
  },
  {
   "cell_type": "code",
   "execution_count": 83,
   "metadata": {},
   "outputs": [],
   "source": [
    "df_model.to_excel(\"../MakroDataModell.xlsx\")"
   ]
  },
  {
   "cell_type": "code",
   "execution_count": 81,
   "metadata": {},
   "outputs": [
    {
     "data": {
      "text/html": [
       "<div>\n",
       "<style scoped>\n",
       "    .dataframe tbody tr th:only-of-type {\n",
       "        vertical-align: middle;\n",
       "    }\n",
       "\n",
       "    .dataframe tbody tr th {\n",
       "        vertical-align: top;\n",
       "    }\n",
       "\n",
       "    .dataframe thead th {\n",
       "        text-align: right;\n",
       "    }\n",
       "</style>\n",
       "<table border=\"1\" class=\"dataframe\">\n",
       "  <thead>\n",
       "    <tr style=\"text-align: right;\">\n",
       "      <th></th>\n",
       "      <th>PBOL</th>\n",
       "      <th>K83</th>\n",
       "      <th>RD300</th>\n",
       "      <th>RAM300</th>\n",
       "      <th>NB</th>\n",
       "      <th>BEF1574</th>\n",
       "      <th>NT</th>\n",
       "      <th>ntot</th>\n",
       "      <th>BF300</th>\n",
       "      <th>BG300</th>\n",
       "      <th>...</th>\n",
       "      <th>realrente</th>\n",
       "      <th>C</th>\n",
       "      <th>YD</th>\n",
       "      <th>Dyd</th>\n",
       "      <th>yd_1</th>\n",
       "      <th>Dkpi</th>\n",
       "      <th>nominiellrente</th>\n",
       "      <th>Dyd_1</th>\n",
       "      <th>Dyd_2</th>\n",
       "      <th>nominellrente</th>\n",
       "    </tr>\n",
       "  </thead>\n",
       "  <tbody>\n",
       "    <tr>\n",
       "      <th>1979Q3</th>\n",
       "      <td>0.12426</td>\n",
       "      <td>1.339536e+06</td>\n",
       "      <td>33123.24746</td>\n",
       "      <td>149.00</td>\n",
       "      <td>4075.98798</td>\n",
       "      <td>2922.33192</td>\n",
       "      <td>ND</td>\n",
       "      <td>1896.29079</td>\n",
       "      <td>161500.76563</td>\n",
       "      <td>140827.46875</td>\n",
       "      <td>...</td>\n",
       "      <td>0.086976</td>\n",
       "      <td>11.773450</td>\n",
       "      <td>135136.333506</td>\n",
       "      <td>0.023183</td>\n",
       "      <td>11.801166</td>\n",
       "      <td>0.013864</td>\n",
       "      <td>0.10084</td>\n",
       "      <td>-0.046912</td>\n",
       "      <td>0.010392</td>\n",
       "      <td>0.10084</td>\n",
       "    </tr>\n",
       "    <tr>\n",
       "      <th>1979Q4</th>\n",
       "      <td>0.12683</td>\n",
       "      <td>1.355747e+06</td>\n",
       "      <td>33558.40048</td>\n",
       "      <td>149.00</td>\n",
       "      <td>4078.89922</td>\n",
       "      <td>2927.09123</td>\n",
       "      <td>ND</td>\n",
       "      <td>1918.21120</td>\n",
       "      <td>164622.40625</td>\n",
       "      <td>148349.51563</td>\n",
       "      <td>...</td>\n",
       "      <td>0.129041</td>\n",
       "      <td>11.782960</td>\n",
       "      <td>148549.550825</td>\n",
       "      <td>0.065746</td>\n",
       "      <td>11.814039</td>\n",
       "      <td>-0.030921</td>\n",
       "      <td>0.09812</td>\n",
       "      <td>0.023183</td>\n",
       "      <td>-0.046912</td>\n",
       "      <td>0.09812</td>\n",
       "    </tr>\n",
       "    <tr>\n",
       "      <th>1980Q1</th>\n",
       "      <td>0.12987</td>\n",
       "      <td>1.367316e+06</td>\n",
       "      <td>35397.42898</td>\n",
       "      <td>274.25</td>\n",
       "      <td>4082.24089</td>\n",
       "      <td>2932.13040</td>\n",
       "      <td>ND</td>\n",
       "      <td>1932.32585</td>\n",
       "      <td>171629.56250</td>\n",
       "      <td>150387.25000</td>\n",
       "      <td>...</td>\n",
       "      <td>0.077132</td>\n",
       "      <td>11.781853</td>\n",
       "      <td>148175.988015</td>\n",
       "      <td>0.045515</td>\n",
       "      <td>11.908674</td>\n",
       "      <td>0.027388</td>\n",
       "      <td>0.10452</td>\n",
       "      <td>0.065746</td>\n",
       "      <td>0.023183</td>\n",
       "      <td>0.10452</td>\n",
       "    </tr>\n",
       "    <tr>\n",
       "      <th>1980Q2</th>\n",
       "      <td>0.13304</td>\n",
       "      <td>1.382012e+06</td>\n",
       "      <td>37574.23815</td>\n",
       "      <td>274.25</td>\n",
       "      <td>4085.58250</td>\n",
       "      <td>2937.44943</td>\n",
       "      <td>ND</td>\n",
       "      <td>1952.75709</td>\n",
       "      <td>178318.03125</td>\n",
       "      <td>158265.64063</td>\n",
       "      <td>...</td>\n",
       "      <td>0.048852</td>\n",
       "      <td>11.775767</td>\n",
       "      <td>142179.997387</td>\n",
       "      <td>0.063683</td>\n",
       "      <td>11.906156</td>\n",
       "      <td>0.057148</td>\n",
       "      <td>0.10600</td>\n",
       "      <td>0.045515</td>\n",
       "      <td>0.065746</td>\n",
       "      <td>0.10600</td>\n",
       "    </tr>\n",
       "    <tr>\n",
       "      <th>1980Q3</th>\n",
       "      <td>0.13704</td>\n",
       "      <td>1.399107e+06</td>\n",
       "      <td>38127.50609</td>\n",
       "      <td>274.25</td>\n",
       "      <td>4088.96088</td>\n",
       "      <td>2942.79769</td>\n",
       "      <td>ND</td>\n",
       "      <td>1946.05009</td>\n",
       "      <td>182456.12500</td>\n",
       "      <td>161525.67188</td>\n",
       "      <td>...</td>\n",
       "      <td>0.024186</td>\n",
       "      <td>11.785575</td>\n",
       "      <td>142300.418000</td>\n",
       "      <td>0.051656</td>\n",
       "      <td>11.864849</td>\n",
       "      <td>0.086334</td>\n",
       "      <td>0.11052</td>\n",
       "      <td>0.063683</td>\n",
       "      <td>0.045515</td>\n",
       "      <td>0.11052</td>\n",
       "    </tr>\n",
       "  </tbody>\n",
       "</table>\n",
       "<p>5 rows × 82 columns</p>\n",
       "</div>"
      ],
      "text/plain": [
       "           PBOL           K83        RD300  RAM300         NB     BEF1574   \\\n",
       "1979Q3  0.12426  1.339536e+06  33123.24746  149.00  4075.98798  2922.33192   \n",
       "1979Q4  0.12683  1.355747e+06  33558.40048  149.00  4078.89922  2927.09123   \n",
       "1980Q1  0.12987  1.367316e+06  35397.42898  274.25  4082.24089  2932.13040   \n",
       "1980Q2  0.13304  1.382012e+06  37574.23815  274.25  4085.58250  2937.44943   \n",
       "1980Q3  0.13704  1.399107e+06  38127.50609  274.25  4088.96088  2942.79769   \n",
       "\n",
       "        NT        ntot         BF300         BG300      ...        realrente  \\\n",
       "1979Q3  ND  1896.29079  161500.76563  140827.46875      ...         0.086976   \n",
       "1979Q4  ND  1918.21120  164622.40625  148349.51563      ...         0.129041   \n",
       "1980Q1  ND  1932.32585  171629.56250  150387.25000      ...         0.077132   \n",
       "1980Q2  ND  1952.75709  178318.03125  158265.64063      ...         0.048852   \n",
       "1980Q3  ND  1946.05009  182456.12500  161525.67188      ...         0.024186   \n",
       "\n",
       "                C             YD       Dyd       yd_1      Dkpi  \\\n",
       "1979Q3  11.773450  135136.333506  0.023183  11.801166  0.013864   \n",
       "1979Q4  11.782960  148549.550825  0.065746  11.814039 -0.030921   \n",
       "1980Q1  11.781853  148175.988015  0.045515  11.908674  0.027388   \n",
       "1980Q2  11.775767  142179.997387  0.063683  11.906156  0.057148   \n",
       "1980Q3  11.785575  142300.418000  0.051656  11.864849  0.086334   \n",
       "\n",
       "       nominiellrente     Dyd_1     Dyd_2  nominellrente  \n",
       "1979Q3        0.10084 -0.046912  0.010392        0.10084  \n",
       "1979Q4        0.09812  0.023183 -0.046912        0.09812  \n",
       "1980Q1        0.10452  0.065746  0.023183        0.10452  \n",
       "1980Q2        0.10600  0.045515  0.065746        0.10600  \n",
       "1980Q3        0.11052  0.063683  0.045515        0.11052  \n",
       "\n",
       "[5 rows x 82 columns]"
      ]
     },
     "execution_count": 81,
     "metadata": {},
     "output_type": "execute_result"
    }
   ],
   "source": [
    "df_model.head()"
   ]
  },
  {
   "cell_type": "code",
   "execution_count": null,
   "metadata": {},
   "outputs": [],
   "source": []
  }
 ],
 "metadata": {
  "kernelspec": {
   "display_name": "Python 3",
   "language": "python",
   "name": "python3"
  },
  "language_info": {
   "codemirror_mode": {
    "name": "ipython",
    "version": 3
   },
   "file_extension": ".py",
   "mimetype": "text/x-python",
   "name": "python",
   "nbconvert_exporter": "python",
   "pygments_lexer": "ipython3",
   "version": "3.6.1"
  }
 },
 "nbformat": 4,
 "nbformat_minor": 2
}
