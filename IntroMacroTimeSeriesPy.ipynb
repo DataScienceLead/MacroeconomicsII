{
 "cells": [
  {
   "cell_type": "code",
   "execution_count": null,
   "metadata": {},
   "outputs": [],
   "source": []
  },
  {
   "cell_type": "markdown",
   "metadata": {},
   "source": [
    "# Analyze Norwegian GDP Data\n",
    "* 26-08-2018\n",
    "* Joakim Blix Prestmo\n",
    "* ECN222\n",
    "* Norwegian University of Life Science"
   ]
  },
  {
   "cell_type": "code",
   "execution_count": 2,
   "metadata": {},
   "outputs": [],
   "source": [
    "import pandas as pd\n",
    "#import matplotlib as plt\n",
    "import matplotlib.pyplot as plt\n",
    "import datetime\n",
    "import numpy as np"
   ]
  },
  {
   "cell_type": "raw",
   "metadata": {},
   "source": []
  },
  {
   "cell_type": "code",
   "execution_count": 5,
   "metadata": {},
   "outputs": [],
   "source": [
    "df = pd.read_excel(\"http://www.ssb.no/statbank/sq/10010628/\", skiprows=3, nrows=162)\n",
    "# df = pd.read_excel(\"../FastePriserSesJust.xlsx\")\n",
    "# df = pd.read_excel(\"../FastePriserSesJust.xlsx\")\n",
    "#\", skiprows=3, nrows=162\n"
   ]
  },
  {
   "cell_type": "code",
   "execution_count": 6,
   "metadata": {},
   "outputs": [
    {
     "data": {
      "text/html": [
       "<div>\n",
       "<style scoped>\n",
       "    .dataframe tbody tr th:only-of-type {\n",
       "        vertical-align: middle;\n",
       "    }\n",
       "\n",
       "    .dataframe tbody tr th {\n",
       "        vertical-align: top;\n",
       "    }\n",
       "\n",
       "    .dataframe thead th {\n",
       "        text-align: right;\n",
       "    }\n",
       "</style>\n",
       "<table border=\"1\" class=\"dataframe\">\n",
       "  <thead>\n",
       "    <tr style=\"text-align: right;\">\n",
       "      <th></th>\n",
       "      <th>Unnamed: 0</th>\n",
       "      <th>Konsum i husholdninger og ideelle organisasjoner</th>\n",
       "      <th>Konsum i offentlig forvaltning</th>\n",
       "      <th>Bruttoinvestering i fast realkapital</th>\n",
       "      <th>Lagerendring og statistiske avvik</th>\n",
       "      <th>Eksport i alt</th>\n",
       "      <th>Import i alt</th>\n",
       "      <th>Bruttonasjonalprodukt, markedsverdi</th>\n",
       "      <th>Bruttonasjonalprodukt Fastlands-Norge, markedsverdi</th>\n",
       "    </tr>\n",
       "  </thead>\n",
       "  <tbody>\n",
       "    <tr>\n",
       "      <th>205</th>\n",
       "      <td>Database:</td>\n",
       "      <td>NaN</td>\n",
       "      <td>NaN</td>\n",
       "      <td>NaN</td>\n",
       "      <td>NaN</td>\n",
       "      <td>NaN</td>\n",
       "      <td>NaN</td>\n",
       "      <td>NaN</td>\n",
       "      <td>NaN</td>\n",
       "    </tr>\n",
       "    <tr>\n",
       "      <th>206</th>\n",
       "      <td>Ekstern PRODUKSJON</td>\n",
       "      <td>NaN</td>\n",
       "      <td>NaN</td>\n",
       "      <td>NaN</td>\n",
       "      <td>NaN</td>\n",
       "      <td>NaN</td>\n",
       "      <td>NaN</td>\n",
       "      <td>NaN</td>\n",
       "      <td>NaN</td>\n",
       "    </tr>\n",
       "    <tr>\n",
       "      <th>207</th>\n",
       "      <td>NaN</td>\n",
       "      <td>NaN</td>\n",
       "      <td>NaN</td>\n",
       "      <td>NaN</td>\n",
       "      <td>NaN</td>\n",
       "      <td>NaN</td>\n",
       "      <td>NaN</td>\n",
       "      <td>NaN</td>\n",
       "      <td>NaN</td>\n",
       "    </tr>\n",
       "    <tr>\n",
       "      <th>208</th>\n",
       "      <td>Intern referansekode:</td>\n",
       "      <td>NaN</td>\n",
       "      <td>NaN</td>\n",
       "      <td>NaN</td>\n",
       "      <td>NaN</td>\n",
       "      <td>NaN</td>\n",
       "      <td>NaN</td>\n",
       "      <td>NaN</td>\n",
       "      <td>NaN</td>\n",
       "    </tr>\n",
       "    <tr>\n",
       "      <th>209</th>\n",
       "      <td>FastePriserSesJust</td>\n",
       "      <td>NaN</td>\n",
       "      <td>NaN</td>\n",
       "      <td>NaN</td>\n",
       "      <td>NaN</td>\n",
       "      <td>NaN</td>\n",
       "      <td>NaN</td>\n",
       "      <td>NaN</td>\n",
       "      <td>NaN</td>\n",
       "    </tr>\n",
       "  </tbody>\n",
       "</table>\n",
       "</div>"
      ],
      "text/plain": [
       "                Unnamed: 0  Konsum i husholdninger og ideelle organisasjoner  \\\n",
       "205              Database:                                               NaN   \n",
       "206     Ekstern PRODUKSJON                                               NaN   \n",
       "207                    NaN                                               NaN   \n",
       "208  Intern referansekode:                                               NaN   \n",
       "209     FastePriserSesJust                                               NaN   \n",
       "\n",
       "     Konsum i offentlig forvaltning  Bruttoinvestering i fast realkapital  \\\n",
       "205                             NaN                                   NaN   \n",
       "206                             NaN                                   NaN   \n",
       "207                             NaN                                   NaN   \n",
       "208                             NaN                                   NaN   \n",
       "209                             NaN                                   NaN   \n",
       "\n",
       "     Lagerendring og statistiske avvik  Eksport i alt  Import i alt  \\\n",
       "205                                NaN            NaN           NaN   \n",
       "206                                NaN            NaN           NaN   \n",
       "207                                NaN            NaN           NaN   \n",
       "208                                NaN            NaN           NaN   \n",
       "209                                NaN            NaN           NaN   \n",
       "\n",
       "     Bruttonasjonalprodukt, markedsverdi  \\\n",
       "205                                  NaN   \n",
       "206                                  NaN   \n",
       "207                                  NaN   \n",
       "208                                  NaN   \n",
       "209                                  NaN   \n",
       "\n",
       "     Bruttonasjonalprodukt Fastlands-Norge, markedsverdi  \n",
       "205                                                NaN    \n",
       "206                                                NaN    \n",
       "207                                                NaN    \n",
       "208                                                NaN    \n",
       "209                                                NaN    "
      ]
     },
     "execution_count": 6,
     "metadata": {},
     "output_type": "execute_result"
    }
   ],
   "source": [
    "df.tail()\n"
   ]
  },
  {
   "cell_type": "code",
   "execution_count": 7,
   "metadata": {},
   "outputs": [],
   "source": [
    "df['Unnamed: 0'] = df['Unnamed: 0'].str.replace('K','Q')"
   ]
  },
  {
   "cell_type": "code",
   "execution_count": 21,
   "metadata": {},
   "outputs": [],
   "source": [
    "# df.index = pd.to_datetime(df['Unnamed: 0'])\n",
    "\n"
   ]
  },
  {
   "cell_type": "code",
   "execution_count": 8,
   "metadata": {},
   "outputs": [],
   "source": [
    "df = df.drop(['Unnamed: 0'], axis=1)"
   ]
  },
  {
   "cell_type": "code",
   "execution_count": null,
   "metadata": {},
   "outputs": [],
   "source": [
    "df.head()"
   ]
  },
  {
   "cell_type": "code",
   "execution_count": 1,
   "metadata": {},
   "outputs": [],
   "source": [
    "#df.columns['Consumption', 'PublicConsumption', 'Investments', 'Error', 'Exports', 'Imports', 'GDP', 'GDPMainland']"
   ]
  },
  {
   "cell_type": "code",
   "execution_count": 9,
   "metadata": {},
   "outputs": [],
   "source": [
    "df.index = pd.Index(pd.period_range('1978-01', periods=210, freq='Q'))\n"
   ]
  },
  {
   "cell_type": "code",
   "execution_count": 10,
   "metadata": {},
   "outputs": [
    {
     "data": {
      "text/html": [
       "<div>\n",
       "<style scoped>\n",
       "    .dataframe tbody tr th:only-of-type {\n",
       "        vertical-align: middle;\n",
       "    }\n",
       "\n",
       "    .dataframe tbody tr th {\n",
       "        vertical-align: top;\n",
       "    }\n",
       "\n",
       "    .dataframe thead th {\n",
       "        text-align: right;\n",
       "    }\n",
       "</style>\n",
       "<table border=\"1\" class=\"dataframe\">\n",
       "  <thead>\n",
       "    <tr style=\"text-align: right;\">\n",
       "      <th></th>\n",
       "      <th>Konsum i husholdninger og ideelle organisasjoner</th>\n",
       "      <th>Konsum i offentlig forvaltning</th>\n",
       "      <th>Bruttoinvestering i fast realkapital</th>\n",
       "      <th>Lagerendring og statistiske avvik</th>\n",
       "      <th>Eksport i alt</th>\n",
       "      <th>Import i alt</th>\n",
       "      <th>Bruttonasjonalprodukt, markedsverdi</th>\n",
       "      <th>Bruttonasjonalprodukt Fastlands-Norge, markedsverdi</th>\n",
       "    </tr>\n",
       "  </thead>\n",
       "  <tbody>\n",
       "    <tr>\n",
       "      <th>1978Q1</th>\n",
       "      <td>122919.0</td>\n",
       "      <td>68961.0</td>\n",
       "      <td>85491.0</td>\n",
       "      <td>23188.0</td>\n",
       "      <td>73295.0</td>\n",
       "      <td>69888.0</td>\n",
       "      <td>293066.0</td>\n",
       "      <td>263367.0</td>\n",
       "    </tr>\n",
       "    <tr>\n",
       "      <th>1978Q2</th>\n",
       "      <td>123703.0</td>\n",
       "      <td>67663.0</td>\n",
       "      <td>83135.0</td>\n",
       "      <td>3245.0</td>\n",
       "      <td>97233.0</td>\n",
       "      <td>71259.0</td>\n",
       "      <td>297817.0</td>\n",
       "      <td>266308.0</td>\n",
       "    </tr>\n",
       "    <tr>\n",
       "      <th>1978Q3</th>\n",
       "      <td>125303.0</td>\n",
       "      <td>69510.0</td>\n",
       "      <td>82682.0</td>\n",
       "      <td>20378.0</td>\n",
       "      <td>80527.0</td>\n",
       "      <td>66907.0</td>\n",
       "      <td>301391.0</td>\n",
       "      <td>267246.0</td>\n",
       "    </tr>\n",
       "    <tr>\n",
       "      <th>1978Q4</th>\n",
       "      <td>124430.0</td>\n",
       "      <td>70443.0</td>\n",
       "      <td>87285.0</td>\n",
       "      <td>15558.0</td>\n",
       "      <td>84079.0</td>\n",
       "      <td>69818.0</td>\n",
       "      <td>301788.0</td>\n",
       "      <td>272114.0</td>\n",
       "    </tr>\n",
       "    <tr>\n",
       "      <th>1979Q1</th>\n",
       "      <td>126817.0</td>\n",
       "      <td>70977.0</td>\n",
       "      <td>82501.0</td>\n",
       "      <td>16138.0</td>\n",
       "      <td>82192.0</td>\n",
       "      <td>67213.0</td>\n",
       "      <td>300470.0</td>\n",
       "      <td>273996.0</td>\n",
       "    </tr>\n",
       "  </tbody>\n",
       "</table>\n",
       "</div>"
      ],
      "text/plain": [
       "        Konsum i husholdninger og ideelle organisasjoner  \\\n",
       "1978Q1                                          122919.0   \n",
       "1978Q2                                          123703.0   \n",
       "1978Q3                                          125303.0   \n",
       "1978Q4                                          124430.0   \n",
       "1979Q1                                          126817.0   \n",
       "\n",
       "        Konsum i offentlig forvaltning  Bruttoinvestering i fast realkapital  \\\n",
       "1978Q1                         68961.0                               85491.0   \n",
       "1978Q2                         67663.0                               83135.0   \n",
       "1978Q3                         69510.0                               82682.0   \n",
       "1978Q4                         70443.0                               87285.0   \n",
       "1979Q1                         70977.0                               82501.0   \n",
       "\n",
       "        Lagerendring og statistiske avvik  Eksport i alt  Import i alt  \\\n",
       "1978Q1                            23188.0        73295.0       69888.0   \n",
       "1978Q2                             3245.0        97233.0       71259.0   \n",
       "1978Q3                            20378.0        80527.0       66907.0   \n",
       "1978Q4                            15558.0        84079.0       69818.0   \n",
       "1979Q1                            16138.0        82192.0       67213.0   \n",
       "\n",
       "        Bruttonasjonalprodukt, markedsverdi  \\\n",
       "1978Q1                             293066.0   \n",
       "1978Q2                             297817.0   \n",
       "1978Q3                             301391.0   \n",
       "1978Q4                             301788.0   \n",
       "1979Q1                             300470.0   \n",
       "\n",
       "        Bruttonasjonalprodukt Fastlands-Norge, markedsverdi  \n",
       "1978Q1                                           263367.0    \n",
       "1978Q2                                           266308.0    \n",
       "1978Q3                                           267246.0    \n",
       "1978Q4                                           272114.0    \n",
       "1979Q1                                           273996.0    "
      ]
     },
     "execution_count": 10,
     "metadata": {},
     "output_type": "execute_result"
    }
   ],
   "source": [
    "df.head()"
   ]
  },
  {
   "cell_type": "markdown",
   "metadata": {},
   "source": [
    "# Figure"
   ]
  },
  {
   "cell_type": "code",
   "execution_count": 25,
   "metadata": {},
   "outputs": [
    {
     "data": {
      "image/png": "[encoded data removed]",
      "text/plain": [
       "<matplotlib.figure.Figure at 0x18e3e3264e0>"
      ]
     },
     "metadata": {},
     "output_type": "display_data"
    }
   ],
   "source": [
    "# Simple time series plot\n",
    "df['Konsum i husholdninger og ideelle organisasjoner'].plot()\n",
    "plt.show()"
   ]
  },
  {
   "cell_type": "code",
   "execution_count": 26,
   "metadata": {},
   "outputs": [
    {
     "data": {
      "image/png": "[encoded data removed]",
      "text/plain": [
       "<matplotlib.figure.Figure at 0x18e3e6b3b70>"
      ]
     },
     "metadata": {},
     "output_type": "display_data"
    }
   ],
   "source": [
    "# Add title and legend\n",
    "df['Konsum i husholdninger og ideelle organisasjoner'].plot()\n",
    "plt.title(\"Figure 1.1: Consumption\")\n",
    "plt.legend()\n",
    "plt.xlabel('Date', fontdict=None, labelpad=None)\n",
    "plt.ylabel('MNOK')\n",
    "plt.show()\n",
    "\n"
   ]
  },
  {
   "cell_type": "markdown",
   "metadata": {},
   "source": [
    "# Variables engineering"
   ]
  },
  {
   "cell_type": "code",
   "execution_count": 45,
   "metadata": {},
   "outputs": [],
   "source": [
    "# Create growth rates:\n",
    "# df[log_C] = ...\n",
    "df['DC'] = np.log(df['Konsum i husholdninger og ideelle organisasjoner']).diff(4)\n",
    "Ddf = df.diff(periods=4)\n",
    "df['DC_Y'] = df['DC']/(df['Bruttonasjonalprodukt Fastlands-Norge, markedsverdi'])"
   ]
  },
  {
   "cell_type": "code",
   "execution_count": 41,
   "metadata": {},
   "outputs": [
    {
     "data": {
      "image/png": "[encoded data removed]",
      "text/plain": [
       "<matplotlib.figure.Figure at 0x18e3fcb92e8>"
      ]
     },
     "metadata": {},
     "output_type": "display_data"
    }
   ],
   "source": [
    "# Add title and legend\n",
    "Ddf['Konsum i husholdninger og ideelle organisasjoner'].plot()\n",
    "plt.title(\"Figure 1.1: Consumption\")\n",
    "plt.legend()\n",
    "plt.xlabel('Date', fontdict=None, labelpad=None)\n",
    "plt.ylabel('MNOK')\n",
    "plt.show()\n",
    "\n"
   ]
  },
  {
   "cell_type": "code",
   "execution_count": 46,
   "metadata": {},
   "outputs": [
    {
     "data": {
      "image/png": "[encoded data removed]",
      "text/plain": [
       "<matplotlib.figure.Figure at 0x18e3fa73208>"
      ]
     },
     "metadata": {},
     "output_type": "display_data"
    }
   ],
   "source": [
    "df['DC_Y'].plot()\n",
    "plt.title(\"Figure 1.1: Consumption\")\n",
    "plt.legend()\n",
    "plt.xlabel('Date', fontdict=None, labelpad=None)\n",
    "plt.ylabel('MNOK')\n",
    "plt.show()\n",
    "\n"
   ]
  },
  {
   "cell_type": "code",
   "execution_count": 32,
   "metadata": {},
   "outputs": [
    {
     "data": {
      "text/html": [
       "<div>\n",
       "<style scoped>\n",
       "    .dataframe tbody tr th:only-of-type {\n",
       "        vertical-align: middle;\n",
       "    }\n",
       "\n",
       "    .dataframe tbody tr th {\n",
       "        vertical-align: top;\n",
       "    }\n",
       "\n",
       "    .dataframe thead th {\n",
       "        text-align: right;\n",
       "    }\n",
       "</style>\n",
       "<table border=\"1\" class=\"dataframe\">\n",
       "  <thead>\n",
       "    <tr style=\"text-align: right;\">\n",
       "      <th></th>\n",
       "      <th>Konsum i husholdninger og ideelle organisasjoner</th>\n",
       "      <th>Konsum i offentlig forvaltning</th>\n",
       "      <th>Bruttoinvestering i fast realkapital</th>\n",
       "      <th>Lagerendring og statistiske avvik</th>\n",
       "      <th>Eksport i alt</th>\n",
       "      <th>Import i alt</th>\n",
       "      <th>Bruttonasjonalprodukt, markedsverdi</th>\n",
       "      <th>Bruttonasjonalprodukt Fastlands-Norge, markedsverdi</th>\n",
       "    </tr>\n",
       "    <tr>\n",
       "      <th>Unnamed: 0</th>\n",
       "      <th></th>\n",
       "      <th></th>\n",
       "      <th></th>\n",
       "      <th></th>\n",
       "      <th></th>\n",
       "      <th></th>\n",
       "      <th></th>\n",
       "      <th></th>\n",
       "    </tr>\n",
       "  </thead>\n",
       "  <tbody>\n",
       "    <tr>\n",
       "      <th>1978-01-01</th>\n",
       "      <td>122919</td>\n",
       "      <td>68961</td>\n",
       "      <td>85491</td>\n",
       "      <td>23188</td>\n",
       "      <td>73295</td>\n",
       "      <td>69888</td>\n",
       "      <td>293066</td>\n",
       "      <td>263367</td>\n",
       "    </tr>\n",
       "    <tr>\n",
       "      <th>1978-04-01</th>\n",
       "      <td>123703</td>\n",
       "      <td>67663</td>\n",
       "      <td>83135</td>\n",
       "      <td>3245</td>\n",
       "      <td>97233</td>\n",
       "      <td>71259</td>\n",
       "      <td>297817</td>\n",
       "      <td>266308</td>\n",
       "    </tr>\n",
       "    <tr>\n",
       "      <th>1978-07-01</th>\n",
       "      <td>125303</td>\n",
       "      <td>69510</td>\n",
       "      <td>82682</td>\n",
       "      <td>20378</td>\n",
       "      <td>80527</td>\n",
       "      <td>66907</td>\n",
       "      <td>301391</td>\n",
       "      <td>267246</td>\n",
       "    </tr>\n",
       "    <tr>\n",
       "      <th>1978-10-01</th>\n",
       "      <td>124430</td>\n",
       "      <td>70443</td>\n",
       "      <td>87285</td>\n",
       "      <td>15558</td>\n",
       "      <td>84079</td>\n",
       "      <td>69818</td>\n",
       "      <td>301788</td>\n",
       "      <td>272114</td>\n",
       "    </tr>\n",
       "    <tr>\n",
       "      <th>1979-01-01</th>\n",
       "      <td>126817</td>\n",
       "      <td>70977</td>\n",
       "      <td>82501</td>\n",
       "      <td>16138</td>\n",
       "      <td>82192</td>\n",
       "      <td>67213</td>\n",
       "      <td>300470</td>\n",
       "      <td>273996</td>\n",
       "    </tr>\n",
       "  </tbody>\n",
       "</table>\n",
       "</div>"
      ],
      "text/plain": [
       "            Konsum i husholdninger og ideelle organisasjoner  \\\n",
       "Unnamed: 0                                                     \n",
       "1978-01-01                                            122919   \n",
       "1978-04-01                                            123703   \n",
       "1978-07-01                                            125303   \n",
       "1978-10-01                                            124430   \n",
       "1979-01-01                                            126817   \n",
       "\n",
       "            Konsum i offentlig forvaltning  \\\n",
       "Unnamed: 0                                   \n",
       "1978-01-01                           68961   \n",
       "1978-04-01                           67663   \n",
       "1978-07-01                           69510   \n",
       "1978-10-01                           70443   \n",
       "1979-01-01                           70977   \n",
       "\n",
       "            Bruttoinvestering i fast realkapital  \\\n",
       "Unnamed: 0                                         \n",
       "1978-01-01                                 85491   \n",
       "1978-04-01                                 83135   \n",
       "1978-07-01                                 82682   \n",
       "1978-10-01                                 87285   \n",
       "1979-01-01                                 82501   \n",
       "\n",
       "            Lagerendring og statistiske avvik  Eksport i alt  Import i alt  \\\n",
       "Unnamed: 0                                                                   \n",
       "1978-01-01                              23188          73295         69888   \n",
       "1978-04-01                               3245          97233         71259   \n",
       "1978-07-01                              20378          80527         66907   \n",
       "1978-10-01                              15558          84079         69818   \n",
       "1979-01-01                              16138          82192         67213   \n",
       "\n",
       "            Bruttonasjonalprodukt, markedsverdi  \\\n",
       "Unnamed: 0                                        \n",
       "1978-01-01                               293066   \n",
       "1978-04-01                               297817   \n",
       "1978-07-01                               301391   \n",
       "1978-10-01                               301788   \n",
       "1979-01-01                               300470   \n",
       "\n",
       "            Bruttonasjonalprodukt Fastlands-Norge, markedsverdi  \n",
       "Unnamed: 0                                                       \n",
       "1978-01-01                                             263367    \n",
       "1978-04-01                                             266308    \n",
       "1978-07-01                                             267246    \n",
       "1978-10-01                                             272114    \n",
       "1979-01-01                                             273996    "
      ]
     },
     "execution_count": 32,
     "metadata": {},
     "output_type": "execute_result"
    }
   ],
   "source": [
    "df.head()"
   ]
  },
  {
   "cell_type": "code",
   "execution_count": 49,
   "metadata": {},
   "outputs": [],
   "source": [
    "df['C_Y'] = df['Konsum i husholdninger og ideelle organisasjoner']/df['Bruttonasjonalprodukt, markedsverdi']\n",
    "df['G_Y'] = df['Konsum i offentlig forvaltning']/df['Bruttonasjonalprodukt, markedsverdi']\n",
    "df['I_Y'] = df['Bruttoinvestering i fast realkapital']/df['Bruttonasjonalprodukt, markedsverdi']\n",
    "df['NX'] = df['Eksport i alt']-df['Import i alt']\n",
    "df['NX_Y'] = df['NX']/df['Bruttonasjonalprodukt, markedsverdi']"
   ]
  },
  {
   "cell_type": "code",
   "execution_count": 50,
   "metadata": {},
   "outputs": [
    {
     "data": {
      "text/plain": [
       "Konsum i husholdninger og ideelle organisasjoner       2.213354e+05\n",
       "Konsum i offentlig forvaltning                         1.284753e+05\n",
       "Bruttoinvestering i fast realkapital                   1.274143e+05\n",
       "Lagerendring og statistiske avvik                      2.525643e+04\n",
       "Eksport i alt                                          1.982248e+05\n",
       "Import i alt                                           1.473078e+05\n",
       "Bruttonasjonalprodukt, markedsverdi                    5.518910e+05\n",
       "Bruttonasjonalprodukt Fastlands-Norge, markedsverdi    4.509564e+05\n",
       "C_Y                                                    3.966636e+01\n",
       "G_Y                                                    2.323641e-01\n",
       "I_Y                                                    2.317593e-01\n",
       "NX                                                     5.091702e+04\n",
       "NX_Y                                                   9.530165e-02\n",
       "DC                                                     2.737702e-02\n",
       "DC_Y                                                   6.352864e-08\n",
       "dtype: float64"
      ]
     },
     "execution_count": 50,
     "metadata": {},
     "output_type": "execute_result"
    }
   ],
   "source": [
    "df.mean()"
   ]
  },
  {
   "cell_type": "code",
   "execution_count": null,
   "metadata": {},
   "outputs": [],
   "source": []
  }
 ],
 "metadata": {
  "kernelspec": {
   "display_name": "Python 3",
   "language": "python",
   "name": "python3"
  },
  "language_info": {
   "codemirror_mode": {
    "name": "ipython",
    "version": 3
   },
   "file_extension": ".py",
   "mimetype": "text/x-python",
   "name": "python",
   "nbconvert_exporter": "python",
   "pygments_lexer": "ipython3",
   "version": "3.6.1"
  }
 },
 "nbformat": 4,
 "nbformat_minor": 2
}
