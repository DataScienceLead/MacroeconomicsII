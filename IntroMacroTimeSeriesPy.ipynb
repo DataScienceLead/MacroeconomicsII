{
 "cells": [
  {
   "cell_type": "code",
   "execution_count": null,
   "metadata": {},
   "outputs": [],
   "source": []
  },
  {
   "cell_type": "markdown",
   "metadata": {},
   "source": [
    "# Analyze Norwegian GDP Data\n",
    "* 26-08-2018\n",
    "* Joakim Blix Prestmo\n",
    "* ECN222\n",
    "* Norwegian University of Life Science"
   ]
  },
  {
   "cell_type": "code",
   "execution_count": 1,
   "metadata": {},
   "outputs": [],
   "source": [
    "import pandas as pd\n",
    "#import matplotlib as plt\n",
    "import matplotlib.pyplot as plt\n",
    "import datetime\n",
    "import numpy as np"
   ]
  },
  {
   "cell_type": "code",
   "execution_count": 2,
   "metadata": {},
   "outputs": [],
   "source": [
    "df = pd.read_excel(\"http://www.ssb.no/statbank/sq/10010628/\", skiprows=3, nrows=162)"
   ]
  },
  {
   "cell_type": "code",
   "execution_count": 11,
   "metadata": {},
   "outputs": [
    {
     "data": {
      "text/html": [
       "<div>\n",
       "<style scoped>\n",
       "    .dataframe tbody tr th:only-of-type {\n",
       "        vertical-align: middle;\n",
       "    }\n",
       "\n",
       "    .dataframe tbody tr th {\n",
       "        vertical-align: top;\n",
       "    }\n",
       "\n",
       "    .dataframe thead th {\n",
       "        text-align: right;\n",
       "    }\n",
       "</style>\n",
       "<table border=\"1\" class=\"dataframe\">\n",
       "  <thead>\n",
       "    <tr style=\"text-align: right;\">\n",
       "      <th></th>\n",
       "      <th>Konsum i husholdninger og ideelle organisasjoner</th>\n",
       "      <th>Konsum i offentlig forvaltning</th>\n",
       "      <th>Bruttoinvestering i fast realkapital</th>\n",
       "      <th>Lagerendring og statistiske avvik</th>\n",
       "      <th>Eksport i alt</th>\n",
       "      <th>Import i alt</th>\n",
       "      <th>Bruttonasjonalprodukt, markedsverdi</th>\n",
       "      <th>Bruttonasjonalprodukt Fastlands-Norge, markedsverdi</th>\n",
       "    </tr>\n",
       "    <tr>\n",
       "      <th>Unnamed: 0</th>\n",
       "      <th></th>\n",
       "      <th></th>\n",
       "      <th></th>\n",
       "      <th></th>\n",
       "      <th></th>\n",
       "      <th></th>\n",
       "      <th></th>\n",
       "      <th></th>\n",
       "    </tr>\n",
       "  </thead>\n",
       "  <tbody>\n",
       "    <tr>\n",
       "      <th>2017-04-01</th>\n",
       "      <td>360535</td>\n",
       "      <td>193672</td>\n",
       "      <td>204241</td>\n",
       "      <td>24145</td>\n",
       "      <td>277831</td>\n",
       "      <td>266602</td>\n",
       "      <td>793821</td>\n",
       "      <td>689033</td>\n",
       "    </tr>\n",
       "    <tr>\n",
       "      <th>2017-07-01</th>\n",
       "      <td>362801</td>\n",
       "      <td>194833</td>\n",
       "      <td>204141</td>\n",
       "      <td>28512</td>\n",
       "      <td>274635</td>\n",
       "      <td>265535</td>\n",
       "      <td>799386</td>\n",
       "      <td>694119</td>\n",
       "    </tr>\n",
       "    <tr>\n",
       "      <th>2017-10-01</th>\n",
       "      <td>365517</td>\n",
       "      <td>197428</td>\n",
       "      <td>206820</td>\n",
       "      <td>32456</td>\n",
       "      <td>268974</td>\n",
       "      <td>270696</td>\n",
       "      <td>800498</td>\n",
       "      <td>699848</td>\n",
       "    </tr>\n",
       "    <tr>\n",
       "      <th>2018-01-01</th>\n",
       "      <td>365706</td>\n",
       "      <td>197365</td>\n",
       "      <td>193683</td>\n",
       "      <td>40283</td>\n",
       "      <td>270668</td>\n",
       "      <td>265346</td>\n",
       "      <td>802358</td>\n",
       "      <td>702351</td>\n",
       "    </tr>\n",
       "    <tr>\n",
       "      <th>2018-04-01</th>\n",
       "      <td>369614</td>\n",
       "      <td>198133</td>\n",
       "      <td>204223</td>\n",
       "      <td>35634</td>\n",
       "      <td>274599</td>\n",
       "      <td>276797</td>\n",
       "      <td>805405</td>\n",
       "      <td>706102</td>\n",
       "    </tr>\n",
       "  </tbody>\n",
       "</table>\n",
       "</div>"
      ],
      "text/plain": [
       "            Konsum i husholdninger og ideelle organisasjoner  \\\n",
       "Unnamed: 0                                                     \n",
       "2017-04-01                                            360535   \n",
       "2017-07-01                                            362801   \n",
       "2017-10-01                                            365517   \n",
       "2018-01-01                                            365706   \n",
       "2018-04-01                                            369614   \n",
       "\n",
       "            Konsum i offentlig forvaltning  \\\n",
       "Unnamed: 0                                   \n",
       "2017-04-01                          193672   \n",
       "2017-07-01                          194833   \n",
       "2017-10-01                          197428   \n",
       "2018-01-01                          197365   \n",
       "2018-04-01                          198133   \n",
       "\n",
       "            Bruttoinvestering i fast realkapital  \\\n",
       "Unnamed: 0                                         \n",
       "2017-04-01                                204241   \n",
       "2017-07-01                                204141   \n",
       "2017-10-01                                206820   \n",
       "2018-01-01                                193683   \n",
       "2018-04-01                                204223   \n",
       "\n",
       "            Lagerendring og statistiske avvik  Eksport i alt  Import i alt  \\\n",
       "Unnamed: 0                                                                   \n",
       "2017-04-01                              24145         277831        266602   \n",
       "2017-07-01                              28512         274635        265535   \n",
       "2017-10-01                              32456         268974        270696   \n",
       "2018-01-01                              40283         270668        265346   \n",
       "2018-04-01                              35634         274599        276797   \n",
       "\n",
       "            Bruttonasjonalprodukt, markedsverdi  \\\n",
       "Unnamed: 0                                        \n",
       "2017-04-01                               793821   \n",
       "2017-07-01                               799386   \n",
       "2017-10-01                               800498   \n",
       "2018-01-01                               802358   \n",
       "2018-04-01                               805405   \n",
       "\n",
       "            Bruttonasjonalprodukt Fastlands-Norge, markedsverdi  \n",
       "Unnamed: 0                                                       \n",
       "2017-04-01                                             689033    \n",
       "2017-07-01                                             694119    \n",
       "2017-10-01                                             699848    \n",
       "2018-01-01                                             702351    \n",
       "2018-04-01                                             706102    "
      ]
     },
     "execution_count": 11,
     "metadata": {},
     "output_type": "execute_result"
    }
   ],
   "source": [
    "df.tail()"
   ]
  },
  {
   "cell_type": "code",
   "execution_count": 5,
   "metadata": {},
   "outputs": [],
   "source": [
    "\n",
    "df['Unnamed: 0'] = df['Unnamed: 0'].str.replace('K','Q')"
   ]
  },
  {
   "cell_type": "code",
   "execution_count": null,
   "metadata": {},
   "outputs": [],
   "source": []
  },
  {
   "cell_type": "code",
   "execution_count": 7,
   "metadata": {},
   "outputs": [],
   "source": [
    "df.index = pd.to_datetime(df['Unnamed: 0'])\n"
   ]
  },
  {
   "cell_type": "code",
   "execution_count": 10,
   "metadata": {},
   "outputs": [],
   "source": [
    "df = df.drop(['Unnamed: 0'], axis=1)"
   ]
  },
  {
   "cell_type": "code",
   "execution_count": 12,
   "metadata": {},
   "outputs": [
    {
     "ename": "IndexError",
     "evalue": "only integers, slices (`:`), ellipsis (`...`), numpy.newaxis (`None`) and integer or boolean arrays are valid indices",
     "output_type": "error",
     "traceback": [
      "\u001b[0;31m---------------------------------------------------------------------------\u001b[0m",
      "\u001b[0;31mIndexError\u001b[0m                                Traceback (most recent call last)",
      "\u001b[0;32m<ipython-input-12-923806ac965f>\u001b[0m in \u001b[0;36m<module>\u001b[0;34m()\u001b[0m\n\u001b[0;32m----> 1\u001b[0;31m \u001b[0mdf\u001b[0m\u001b[0;34m.\u001b[0m\u001b[0mcolumns\u001b[0m\u001b[0;34m[\u001b[0m\u001b[0;34m'Consumption'\u001b[0m\u001b[0;34m,\u001b[0m \u001b[0;34m'PublicConsumption'\u001b[0m\u001b[0;34m,\u001b[0m \u001b[0;34m'Investments'\u001b[0m\u001b[0;34m,\u001b[0m \u001b[0;34m'Error'\u001b[0m\u001b[0;34m,\u001b[0m \u001b[0;34m'Exports'\u001b[0m\u001b[0;34m,\u001b[0m \u001b[0;34m'Imports'\u001b[0m\u001b[0;34m,\u001b[0m \u001b[0;34m'GDP'\u001b[0m\u001b[0;34m,\u001b[0m \u001b[0;34m'GDPMainland'\u001b[0m\u001b[0;34m]\u001b[0m\u001b[0;34m\u001b[0m\u001b[0m\n\u001b[0m",
      "\u001b[0;32m~/anaconda3/lib/python3.6/site-packages/pandas/core/indexes/base.py\u001b[0m in \u001b[0;36m__getitem__\u001b[0;34m(self, key)\u001b[0m\n\u001b[1;32m   2093\u001b[0m \u001b[0;34m\u001b[0m\u001b[0m\n\u001b[1;32m   2094\u001b[0m         \u001b[0mkey\u001b[0m \u001b[0;34m=\u001b[0m \u001b[0mcom\u001b[0m\u001b[0;34m.\u001b[0m\u001b[0m_values_from_object\u001b[0m\u001b[0;34m(\u001b[0m\u001b[0mkey\u001b[0m\u001b[0;34m)\u001b[0m\u001b[0;34m\u001b[0m\u001b[0m\n\u001b[0;32m-> 2095\u001b[0;31m         \u001b[0mresult\u001b[0m \u001b[0;34m=\u001b[0m \u001b[0mgetitem\u001b[0m\u001b[0;34m(\u001b[0m\u001b[0mkey\u001b[0m\u001b[0;34m)\u001b[0m\u001b[0;34m\u001b[0m\u001b[0m\n\u001b[0m\u001b[1;32m   2096\u001b[0m         \u001b[0;32mif\u001b[0m \u001b[0;32mnot\u001b[0m \u001b[0mis_scalar\u001b[0m\u001b[0;34m(\u001b[0m\u001b[0mresult\u001b[0m\u001b[0;34m)\u001b[0m\u001b[0;34m:\u001b[0m\u001b[0;34m\u001b[0m\u001b[0m\n\u001b[1;32m   2097\u001b[0m             \u001b[0;32mreturn\u001b[0m \u001b[0mpromote\u001b[0m\u001b[0;34m(\u001b[0m\u001b[0mresult\u001b[0m\u001b[0;34m)\u001b[0m\u001b[0;34m\u001b[0m\u001b[0m\n",
      "\u001b[0;31mIndexError\u001b[0m: only integers, slices (`:`), ellipsis (`...`), numpy.newaxis (`None`) and integer or boolean arrays are valid indices"
     ]
    }
   ],
   "source": [
    "df.columns['Consumption', 'PublicConsumption', 'Investments', 'Error', 'Exports', 'Imports', 'GDP', 'GDPMainland']"
   ]
  },
  {
   "cell_type": "code",
   "execution_count": 35,
   "metadata": {},
   "outputs": [
    {
     "data": {
      "text/plain": [
       "PeriodIndex(['1978Q3', '1978Q4', '1979Q1', '1979Q2', '1979Q3', '1979Q4',\n",
       "             '1980Q1', '1980Q2', '1980Q3', '1980Q4',\n",
       "             ...\n",
       "             '2016Q1', '2016Q2', '2016Q3', '2016Q4', '2017Q1', '2017Q2',\n",
       "             '2017Q3', '2017Q4', '2018Q1', '2018Q2'],\n",
       "            dtype='period[Q-DEC]', length=160, freq='Q-DEC')"
      ]
     },
     "execution_count": 35,
     "metadata": {},
     "output_type": "execute_result"
    }
   ],
   "source": [
    "pd.Index(pd.period_range('1978-07', periods=160, freq='Q'))\n"
   ]
  },
  {
   "cell_type": "code",
   "execution_count": 16,
   "metadata": {},
   "outputs": [
    {
     "data": {
      "text/html": [
       "<div>\n",
       "<style scoped>\n",
       "    .dataframe tbody tr th:only-of-type {\n",
       "        vertical-align: middle;\n",
       "    }\n",
       "\n",
       "    .dataframe tbody tr th {\n",
       "        vertical-align: top;\n",
       "    }\n",
       "\n",
       "    .dataframe thead th {\n",
       "        text-align: right;\n",
       "    }\n",
       "</style>\n",
       "<table border=\"1\" class=\"dataframe\">\n",
       "  <thead>\n",
       "    <tr style=\"text-align: right;\">\n",
       "      <th></th>\n",
       "      <th>Konsum i husholdninger og ideelle organisasjoner</th>\n",
       "      <th>Konsum i offentlig forvaltning</th>\n",
       "      <th>Bruttoinvestering i fast realkapital</th>\n",
       "      <th>Lagerendring og statistiske avvik</th>\n",
       "      <th>Eksport i alt</th>\n",
       "      <th>Import i alt</th>\n",
       "      <th>Bruttonasjonalprodukt, markedsverdi</th>\n",
       "      <th>Bruttonasjonalprodukt Fastlands-Norge, markedsverdi</th>\n",
       "    </tr>\n",
       "    <tr>\n",
       "      <th>Unnamed: 0</th>\n",
       "      <th></th>\n",
       "      <th></th>\n",
       "      <th></th>\n",
       "      <th></th>\n",
       "      <th></th>\n",
       "      <th></th>\n",
       "      <th></th>\n",
       "      <th></th>\n",
       "    </tr>\n",
       "  </thead>\n",
       "  <tbody>\n",
       "    <tr>\n",
       "      <th>1978-01-01</th>\n",
       "      <td>122919</td>\n",
       "      <td>68961</td>\n",
       "      <td>85491</td>\n",
       "      <td>23188</td>\n",
       "      <td>73295</td>\n",
       "      <td>69888</td>\n",
       "      <td>293066</td>\n",
       "      <td>263367</td>\n",
       "    </tr>\n",
       "    <tr>\n",
       "      <th>1978-04-01</th>\n",
       "      <td>123703</td>\n",
       "      <td>67663</td>\n",
       "      <td>83135</td>\n",
       "      <td>3245</td>\n",
       "      <td>97233</td>\n",
       "      <td>71259</td>\n",
       "      <td>297817</td>\n",
       "      <td>266308</td>\n",
       "    </tr>\n",
       "    <tr>\n",
       "      <th>1978-07-01</th>\n",
       "      <td>125303</td>\n",
       "      <td>69510</td>\n",
       "      <td>82682</td>\n",
       "      <td>20378</td>\n",
       "      <td>80527</td>\n",
       "      <td>66907</td>\n",
       "      <td>301391</td>\n",
       "      <td>267246</td>\n",
       "    </tr>\n",
       "    <tr>\n",
       "      <th>1978-10-01</th>\n",
       "      <td>124430</td>\n",
       "      <td>70443</td>\n",
       "      <td>87285</td>\n",
       "      <td>15558</td>\n",
       "      <td>84079</td>\n",
       "      <td>69818</td>\n",
       "      <td>301788</td>\n",
       "      <td>272114</td>\n",
       "    </tr>\n",
       "    <tr>\n",
       "      <th>1979-01-01</th>\n",
       "      <td>126817</td>\n",
       "      <td>70977</td>\n",
       "      <td>82501</td>\n",
       "      <td>16138</td>\n",
       "      <td>82192</td>\n",
       "      <td>67213</td>\n",
       "      <td>300470</td>\n",
       "      <td>273996</td>\n",
       "    </tr>\n",
       "  </tbody>\n",
       "</table>\n",
       "</div>"
      ],
      "text/plain": [
       "            Konsum i husholdninger og ideelle organisasjoner  \\\n",
       "Unnamed: 0                                                     \n",
       "1978-01-01                                            122919   \n",
       "1978-04-01                                            123703   \n",
       "1978-07-01                                            125303   \n",
       "1978-10-01                                            124430   \n",
       "1979-01-01                                            126817   \n",
       "\n",
       "            Konsum i offentlig forvaltning  \\\n",
       "Unnamed: 0                                   \n",
       "1978-01-01                           68961   \n",
       "1978-04-01                           67663   \n",
       "1978-07-01                           69510   \n",
       "1978-10-01                           70443   \n",
       "1979-01-01                           70977   \n",
       "\n",
       "            Bruttoinvestering i fast realkapital  \\\n",
       "Unnamed: 0                                         \n",
       "1978-01-01                                 85491   \n",
       "1978-04-01                                 83135   \n",
       "1978-07-01                                 82682   \n",
       "1978-10-01                                 87285   \n",
       "1979-01-01                                 82501   \n",
       "\n",
       "            Lagerendring og statistiske avvik  Eksport i alt  Import i alt  \\\n",
       "Unnamed: 0                                                                   \n",
       "1978-01-01                              23188          73295         69888   \n",
       "1978-04-01                               3245          97233         71259   \n",
       "1978-07-01                              20378          80527         66907   \n",
       "1978-10-01                              15558          84079         69818   \n",
       "1979-01-01                              16138          82192         67213   \n",
       "\n",
       "            Bruttonasjonalprodukt, markedsverdi  \\\n",
       "Unnamed: 0                                        \n",
       "1978-01-01                               293066   \n",
       "1978-04-01                               297817   \n",
       "1978-07-01                               301391   \n",
       "1978-10-01                               301788   \n",
       "1979-01-01                               300470   \n",
       "\n",
       "            Bruttonasjonalprodukt Fastlands-Norge, markedsverdi  \n",
       "Unnamed: 0                                                       \n",
       "1978-01-01                                             263367    \n",
       "1978-04-01                                             266308    \n",
       "1978-07-01                                             267246    \n",
       "1978-10-01                                             272114    \n",
       "1979-01-01                                             273996    "
      ]
     },
     "execution_count": 16,
     "metadata": {},
     "output_type": "execute_result"
    }
   ],
   "source": [
    "df.head()"
   ]
  },
  {
   "cell_type": "markdown",
   "metadata": {},
   "source": [
    "# Figure"
   ]
  },
  {
   "cell_type": "code",
   "execution_count": 14,
   "metadata": {},
   "outputs": [
    {
     "data": {
      "image/png": "[encoded data removed]",
      "text/plain": [
       "<matplotlib.figure.Figure at 0x7fe7c8cf0fd0>"
      ]
     },
     "metadata": {},
     "output_type": "display_data"
    }
   ],
   "source": [
    "# Simple time series plot\n",
    "df['Konsum i husholdninger og ideelle organisasjoner'].plot()\n",
    "plt.show()"
   ]
  },
  {
   "cell_type": "code",
   "execution_count": 15,
   "metadata": {},
   "outputs": [
    {
     "data": {
      "image/png": "[encoded data removed]",
      "text/plain": [
       "<matplotlib.figure.Figure at 0x7fe7c05d5c18>"
      ]
     },
     "metadata": {},
     "output_type": "display_data"
    }
   ],
   "source": [
    "# Add title and legend\n",
    "df['Konsum i husholdninger og ideelle organisasjoner'].plot()\n",
    "plt.title(\"Figure 1.1: Consumption\")\n",
    "plt.legend()\n",
    "plt.xlabel('Date', fontdict=None, labelpad=None)\n",
    "plt.ylabel('MNOK')\n",
    "plt.show()\n",
    "\n"
   ]
  },
  {
   "cell_type": "markdown",
   "metadata": {},
   "source": [
    "# Variables engineering"
   ]
  },
  {
   "cell_type": "code",
   "execution_count": 29,
   "metadata": {},
   "outputs": [],
   "source": [
    "# Create growth rates:\n",
    "# df[log_C] = ...\n",
    "#DC = np.df['Konsum i husholdninger og ideelle organisasjoner'].diff()\n",
    "Ddf = df.diff(periods=4)\n",
    "DdfY['C_Y'] = Ddf['Konsum i husholdninger og ideelle organisasjoner']/(df['Bruttonasjonalprodukt Fastlands-Norge, markedsverdi'])"
   ]
  },
  {
   "cell_type": "code",
   "execution_count": 27,
   "metadata": {},
   "outputs": [
    {
     "data": {
      "image/png": "[encoded data removed]",
      "text/plain": [
       "<matplotlib.figure.Figure at 0x7fe7bad4d5f8>"
      ]
     },
     "metadata": {},
     "output_type": "display_data"
    }
   ],
   "source": [
    "# Add title and legend\n",
    "Ddf['Konsum i husholdninger og ideelle organisasjoner'].plot()\n",
    "plt.title(\"Figure 1.1: Consumption\")\n",
    "plt.legend()\n",
    "plt.xlabel('Date', fontdict=None, labelpad=None)\n",
    "plt.ylabel('MNOK')\n",
    "plt.show()\n",
    "\n"
   ]
  },
  {
   "cell_type": "code",
   "execution_count": 31,
   "metadata": {},
   "outputs": [
    {
     "data": {
      "image/png": "[encoded data removed]",
      "text/plain": [
       "<matplotlib.figure.Figure at 0x7fe7bac342e8>"
      ]
     },
     "metadata": {},
     "output_type": "display_data"
    }
   ],
   "source": [
    "DdfY['C_Y'].plot()\n",
    "plt.title(\"Figure 1.1: Consumption\")\n",
    "plt.legend()\n",
    "plt.xlabel('Date', fontdict=None, labelpad=None)\n",
    "plt.ylabel('MNOK')\n",
    "plt.show()\n",
    "\n"
   ]
  },
  {
   "cell_type": "code",
   "execution_count": 32,
   "metadata": {},
   "outputs": [
    {
     "data": {
      "text/html": [
       "<div>\n",
       "<style scoped>\n",
       "    .dataframe tbody tr th:only-of-type {\n",
       "        vertical-align: middle;\n",
       "    }\n",
       "\n",
       "    .dataframe tbody tr th {\n",
       "        vertical-align: top;\n",
       "    }\n",
       "\n",
       "    .dataframe thead th {\n",
       "        text-align: right;\n",
       "    }\n",
       "</style>\n",
       "<table border=\"1\" class=\"dataframe\">\n",
       "  <thead>\n",
       "    <tr style=\"text-align: right;\">\n",
       "      <th></th>\n",
       "      <th>Konsum i husholdninger og ideelle organisasjoner</th>\n",
       "      <th>Konsum i offentlig forvaltning</th>\n",
       "      <th>Bruttoinvestering i fast realkapital</th>\n",
       "      <th>Lagerendring og statistiske avvik</th>\n",
       "      <th>Eksport i alt</th>\n",
       "      <th>Import i alt</th>\n",
       "      <th>Bruttonasjonalprodukt, markedsverdi</th>\n",
       "      <th>Bruttonasjonalprodukt Fastlands-Norge, markedsverdi</th>\n",
       "    </tr>\n",
       "    <tr>\n",
       "      <th>Unnamed: 0</th>\n",
       "      <th></th>\n",
       "      <th></th>\n",
       "      <th></th>\n",
       "      <th></th>\n",
       "      <th></th>\n",
       "      <th></th>\n",
       "      <th></th>\n",
       "      <th></th>\n",
       "    </tr>\n",
       "  </thead>\n",
       "  <tbody>\n",
       "    <tr>\n",
       "      <th>1978-01-01</th>\n",
       "      <td>122919</td>\n",
       "      <td>68961</td>\n",
       "      <td>85491</td>\n",
       "      <td>23188</td>\n",
       "      <td>73295</td>\n",
       "      <td>69888</td>\n",
       "      <td>293066</td>\n",
       "      <td>263367</td>\n",
       "    </tr>\n",
       "    <tr>\n",
       "      <th>1978-04-01</th>\n",
       "      <td>123703</td>\n",
       "      <td>67663</td>\n",
       "      <td>83135</td>\n",
       "      <td>3245</td>\n",
       "      <td>97233</td>\n",
       "      <td>71259</td>\n",
       "      <td>297817</td>\n",
       "      <td>266308</td>\n",
       "    </tr>\n",
       "    <tr>\n",
       "      <th>1978-07-01</th>\n",
       "      <td>125303</td>\n",
       "      <td>69510</td>\n",
       "      <td>82682</td>\n",
       "      <td>20378</td>\n",
       "      <td>80527</td>\n",
       "      <td>66907</td>\n",
       "      <td>301391</td>\n",
       "      <td>267246</td>\n",
       "    </tr>\n",
       "    <tr>\n",
       "      <th>1978-10-01</th>\n",
       "      <td>124430</td>\n",
       "      <td>70443</td>\n",
       "      <td>87285</td>\n",
       "      <td>15558</td>\n",
       "      <td>84079</td>\n",
       "      <td>69818</td>\n",
       "      <td>301788</td>\n",
       "      <td>272114</td>\n",
       "    </tr>\n",
       "    <tr>\n",
       "      <th>1979-01-01</th>\n",
       "      <td>126817</td>\n",
       "      <td>70977</td>\n",
       "      <td>82501</td>\n",
       "      <td>16138</td>\n",
       "      <td>82192</td>\n",
       "      <td>67213</td>\n",
       "      <td>300470</td>\n",
       "      <td>273996</td>\n",
       "    </tr>\n",
       "  </tbody>\n",
       "</table>\n",
       "</div>"
      ],
      "text/plain": [
       "            Konsum i husholdninger og ideelle organisasjoner  \\\n",
       "Unnamed: 0                                                     \n",
       "1978-01-01                                            122919   \n",
       "1978-04-01                                            123703   \n",
       "1978-07-01                                            125303   \n",
       "1978-10-01                                            124430   \n",
       "1979-01-01                                            126817   \n",
       "\n",
       "            Konsum i offentlig forvaltning  \\\n",
       "Unnamed: 0                                   \n",
       "1978-01-01                           68961   \n",
       "1978-04-01                           67663   \n",
       "1978-07-01                           69510   \n",
       "1978-10-01                           70443   \n",
       "1979-01-01                           70977   \n",
       "\n",
       "            Bruttoinvestering i fast realkapital  \\\n",
       "Unnamed: 0                                         \n",
       "1978-01-01                                 85491   \n",
       "1978-04-01                                 83135   \n",
       "1978-07-01                                 82682   \n",
       "1978-10-01                                 87285   \n",
       "1979-01-01                                 82501   \n",
       "\n",
       "            Lagerendring og statistiske avvik  Eksport i alt  Import i alt  \\\n",
       "Unnamed: 0                                                                   \n",
       "1978-01-01                              23188          73295         69888   \n",
       "1978-04-01                               3245          97233         71259   \n",
       "1978-07-01                              20378          80527         66907   \n",
       "1978-10-01                              15558          84079         69818   \n",
       "1979-01-01                              16138          82192         67213   \n",
       "\n",
       "            Bruttonasjonalprodukt, markedsverdi  \\\n",
       "Unnamed: 0                                        \n",
       "1978-01-01                               293066   \n",
       "1978-04-01                               297817   \n",
       "1978-07-01                               301391   \n",
       "1978-10-01                               301788   \n",
       "1979-01-01                               300470   \n",
       "\n",
       "            Bruttonasjonalprodukt Fastlands-Norge, markedsverdi  \n",
       "Unnamed: 0                                                       \n",
       "1978-01-01                                             263367    \n",
       "1978-04-01                                             266308    \n",
       "1978-07-01                                             267246    \n",
       "1978-10-01                                             272114    \n",
       "1979-01-01                                             273996    "
      ]
     },
     "execution_count": 32,
     "metadata": {},
     "output_type": "execute_result"
    }
   ],
   "source": [
    "df.head()"
   ]
  },
  {
   "cell_type": "code",
   "execution_count": 38,
   "metadata": {},
   "outputs": [],
   "source": [
    "df['C_Y'] = df['Konsum i husholdninger og ideelle organisasjoner']/df['Bruttonasjonalprodukt, markedsverdi']\n",
    "df['G_Y'] = df['Konsum i offentlig forvaltning']/df['Bruttonasjonalprodukt, markedsverdi']\n",
    "df['I_Y'] = df['Bruttoinvestering i fast realkapital']/df['Bruttonasjonalprodukt, markedsverdi']\n",
    "df['NX'] = df['Eksport i alt']-df['Import i alt']\n",
    "df['NX_Y'] = df['NX']/df['Bruttonasjonalprodukt, markedsverdi']"
   ]
  },
  {
   "cell_type": "code",
   "execution_count": 42,
   "metadata": {},
   "outputs": [
    {
     "data": {
      "text/plain": [
       "Konsum i husholdninger og ideelle organisasjoner       221335.413580\n",
       "Konsum i offentlig forvaltning                         128475.302469\n",
       "Bruttoinvestering i fast realkapital                   127414.308642\n",
       "Lagerendring og statistiske avvik                       25256.425926\n",
       "Eksport i alt                                          198224.771605\n",
       "Import i alt                                           147307.753086\n",
       "Bruttonasjonalprodukt, markedsverdi                    551891.012346\n",
       "Bruttonasjonalprodukt Fastlands-Norge, markedsverdi    450956.351852\n",
       "C_Y                                                         0.396664\n",
       "G_Y                                                         0.232364\n",
       "I_Y                                                         0.231759\n",
       "NX                                                      50917.018519\n",
       "NX_Y                                                        0.095302\n",
       "dtype: float64"
      ]
     },
     "execution_count": 42,
     "metadata": {},
     "output_type": "execute_result"
    }
   ],
   "source": [
    "df.mean()"
   ]
  },
  {
   "cell_type": "code",
   "execution_count": null,
   "metadata": {},
   "outputs": [],
   "source": []
  }
 ],
 "metadata": {
  "kernelspec": {
   "display_name": "Python 3",
   "language": "python",
   "name": "python3"
  },
  "language_info": {
   "codemirror_mode": {
    "name": "ipython",
    "version": 3
   },
   "file_extension": ".py",
   "mimetype": "text/x-python",
   "name": "python",
   "nbconvert_exporter": "python",
   "pygments_lexer": "ipython3",
   "version": "3.6.4"
  }
 },
 "nbformat": 4,
 "nbformat_minor": 2
}
