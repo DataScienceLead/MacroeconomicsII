{
 "cells": [
  {
   "cell_type": "code",
   "execution_count": null,
   "metadata": {},
   "outputs": [],
   "source": []
  },
  {
   "cell_type": "markdown",
   "metadata": {},
   "source": [
    "# Analyze Norwegian GDP Data\n",
    "* 26-08-2018\n",
    "* Joakim Blix Prestmo\n",
    "* ECN222\n",
    "* Norwegian University of Life Science"
   ]
  },
  {
   "cell_type": "code",
   "execution_count": 1,
   "metadata": {},
   "outputs": [],
   "source": [
    "import pandas as pd\n",
    "import matplotlib as plt"
   ]
  },
  {
   "cell_type": "code",
   "execution_count": 16,
   "metadata": {},
   "outputs": [],
   "source": [
    "df = pd.read_excel(\"http://www.ssb.no/statbank/sq/10010628/\", skiprows=3)"
   ]
  },
  {
   "cell_type": "code",
   "execution_count": 17,
   "metadata": {},
   "outputs": [
    {
     "data": {
      "text/html": [
       "<div>\n",
       "<style scoped>\n",
       "    .dataframe tbody tr th:only-of-type {\n",
       "        vertical-align: middle;\n",
       "    }\n",
       "\n",
       "    .dataframe tbody tr th {\n",
       "        vertical-align: top;\n",
       "    }\n",
       "\n",
       "    .dataframe thead th {\n",
       "        text-align: right;\n",
       "    }\n",
       "</style>\n",
       "<table border=\"1\" class=\"dataframe\">\n",
       "  <thead>\n",
       "    <tr style=\"text-align: right;\">\n",
       "      <th></th>\n",
       "      <th>Unnamed: 0</th>\n",
       "      <th>Konsum i husholdninger og ideelle organisasjoner</th>\n",
       "      <th>Konsum i offentlig forvaltning</th>\n",
       "      <th>Bruttoinvestering i fast realkapital</th>\n",
       "      <th>Lagerendring og statistiske avvik</th>\n",
       "      <th>Eksport i alt</th>\n",
       "      <th>Import i alt</th>\n",
       "      <th>Bruttonasjonalprodukt, markedsverdi</th>\n",
       "      <th>Bruttonasjonalprodukt Fastlands-Norge, markedsverdi</th>\n",
       "    </tr>\n",
       "  </thead>\n",
       "  <tbody>\n",
       "    <tr>\n",
       "      <th>0</th>\n",
       "      <td>1978K1</td>\n",
       "      <td>122919.0</td>\n",
       "      <td>68961.0</td>\n",
       "      <td>85491.0</td>\n",
       "      <td>23188.0</td>\n",
       "      <td>73295.0</td>\n",
       "      <td>69888.0</td>\n",
       "      <td>293066.0</td>\n",
       "      <td>263367.0</td>\n",
       "    </tr>\n",
       "    <tr>\n",
       "      <th>1</th>\n",
       "      <td>1978K2</td>\n",
       "      <td>123703.0</td>\n",
       "      <td>67663.0</td>\n",
       "      <td>83135.0</td>\n",
       "      <td>3245.0</td>\n",
       "      <td>97233.0</td>\n",
       "      <td>71259.0</td>\n",
       "      <td>297817.0</td>\n",
       "      <td>266308.0</td>\n",
       "    </tr>\n",
       "    <tr>\n",
       "      <th>2</th>\n",
       "      <td>1978K3</td>\n",
       "      <td>125303.0</td>\n",
       "      <td>69510.0</td>\n",
       "      <td>82682.0</td>\n",
       "      <td>20378.0</td>\n",
       "      <td>80527.0</td>\n",
       "      <td>66907.0</td>\n",
       "      <td>301391.0</td>\n",
       "      <td>267246.0</td>\n",
       "    </tr>\n",
       "    <tr>\n",
       "      <th>3</th>\n",
       "      <td>1978K4</td>\n",
       "      <td>124430.0</td>\n",
       "      <td>70443.0</td>\n",
       "      <td>87285.0</td>\n",
       "      <td>15558.0</td>\n",
       "      <td>84079.0</td>\n",
       "      <td>69818.0</td>\n",
       "      <td>301788.0</td>\n",
       "      <td>272114.0</td>\n",
       "    </tr>\n",
       "    <tr>\n",
       "      <th>4</th>\n",
       "      <td>1979K1</td>\n",
       "      <td>126817.0</td>\n",
       "      <td>70977.0</td>\n",
       "      <td>82501.0</td>\n",
       "      <td>16138.0</td>\n",
       "      <td>82192.0</td>\n",
       "      <td>67213.0</td>\n",
       "      <td>300470.0</td>\n",
       "      <td>273996.0</td>\n",
       "    </tr>\n",
       "  </tbody>\n",
       "</table>\n",
       "</div>"
      ],
      "text/plain": [
       "  Unnamed: 0  Konsum i husholdninger og ideelle organisasjoner  \\\n",
       "0     1978K1                                          122919.0   \n",
       "1     1978K2                                          123703.0   \n",
       "2     1978K3                                          125303.0   \n",
       "3     1978K4                                          124430.0   \n",
       "4     1979K1                                          126817.0   \n",
       "\n",
       "   Konsum i offentlig forvaltning  Bruttoinvestering i fast realkapital  \\\n",
       "0                         68961.0                               85491.0   \n",
       "1                         67663.0                               83135.0   \n",
       "2                         69510.0                               82682.0   \n",
       "3                         70443.0                               87285.0   \n",
       "4                         70977.0                               82501.0   \n",
       "\n",
       "   Lagerendring og statistiske avvik  Eksport i alt  Import i alt  \\\n",
       "0                            23188.0        73295.0       69888.0   \n",
       "1                             3245.0        97233.0       71259.0   \n",
       "2                            20378.0        80527.0       66907.0   \n",
       "3                            15558.0        84079.0       69818.0   \n",
       "4                            16138.0        82192.0       67213.0   \n",
       "\n",
       "   Bruttonasjonalprodukt, markedsverdi  \\\n",
       "0                             293066.0   \n",
       "1                             297817.0   \n",
       "2                             301391.0   \n",
       "3                             301788.0   \n",
       "4                             300470.0   \n",
       "\n",
       "   Bruttonasjonalprodukt Fastlands-Norge, markedsverdi  \n",
       "0                                           263367.0    \n",
       "1                                           266308.0    \n",
       "2                                           267246.0    \n",
       "3                                           272114.0    \n",
       "4                                           273996.0    "
      ]
     },
     "execution_count": 17,
     "metadata": {},
     "output_type": "execute_result"
    }
   ],
   "source": [
    "df.head()"
   ]
  },
  {
   "cell_type": "code",
   "execution_count": 19,
   "metadata": {},
   "outputs": [
    {
     "ename": "IndexError",
     "evalue": "only integers, slices (`:`), ellipsis (`...`), numpy.newaxis (`None`) and integer or boolean arrays are valid indices",
     "output_type": "error",
     "traceback": [
      "\u001b[0;31m---------------------------------------------------------------------------\u001b[0m",
      "\u001b[0;31mIndexError\u001b[0m                                Traceback (most recent call last)",
      "\u001b[0;32m<ipython-input-19-8f62af046dc6>\u001b[0m in \u001b[0;36m<module>\u001b[0;34m()\u001b[0m\n\u001b[0;32m----> 1\u001b[0;31m \u001b[0mdf\u001b[0m\u001b[0;34m.\u001b[0m\u001b[0mcolumns\u001b[0m\u001b[0;34m[\u001b[0m\u001b[0;34m'Date'\u001b[0m\u001b[0;34m,\u001b[0m \u001b[0;34m'Consumption'\u001b[0m\u001b[0;34m,\u001b[0m \u001b[0;34m'PublicConsumption'\u001b[0m\u001b[0;34m,\u001b[0m \u001b[0;34m'Investments'\u001b[0m\u001b[0;34m,\u001b[0m \u001b[0;34m'Error'\u001b[0m\u001b[0;34m,\u001b[0m \u001b[0;34m'Exports'\u001b[0m\u001b[0;34m,\u001b[0m \u001b[0;34m'Imports'\u001b[0m\u001b[0;34m,\u001b[0m \u001b[0;34m'GDP'\u001b[0m\u001b[0;34m,\u001b[0m \u001b[0;34m'GDPMainland'\u001b[0m\u001b[0;34m]\u001b[0m\u001b[0;34m\u001b[0m\u001b[0m\n\u001b[0m",
      "\u001b[0;32m~/anaconda3/lib/python3.6/site-packages/pandas/core/indexes/base.py\u001b[0m in \u001b[0;36m__getitem__\u001b[0;34m(self, key)\u001b[0m\n\u001b[1;32m   1752\u001b[0m \u001b[0;34m\u001b[0m\u001b[0m\n\u001b[1;32m   1753\u001b[0m         \u001b[0mkey\u001b[0m \u001b[0;34m=\u001b[0m \u001b[0m_values_from_object\u001b[0m\u001b[0;34m(\u001b[0m\u001b[0mkey\u001b[0m\u001b[0;34m)\u001b[0m\u001b[0;34m\u001b[0m\u001b[0m\n\u001b[0;32m-> 1754\u001b[0;31m         \u001b[0mresult\u001b[0m \u001b[0;34m=\u001b[0m \u001b[0mgetitem\u001b[0m\u001b[0;34m(\u001b[0m\u001b[0mkey\u001b[0m\u001b[0;34m)\u001b[0m\u001b[0;34m\u001b[0m\u001b[0m\n\u001b[0m\u001b[1;32m   1755\u001b[0m         \u001b[0;32mif\u001b[0m \u001b[0;32mnot\u001b[0m \u001b[0mis_scalar\u001b[0m\u001b[0;34m(\u001b[0m\u001b[0mresult\u001b[0m\u001b[0;34m)\u001b[0m\u001b[0;34m:\u001b[0m\u001b[0;34m\u001b[0m\u001b[0m\n\u001b[1;32m   1756\u001b[0m             \u001b[0;32mreturn\u001b[0m \u001b[0mpromote\u001b[0m\u001b[0;34m(\u001b[0m\u001b[0mresult\u001b[0m\u001b[0;34m)\u001b[0m\u001b[0;34m\u001b[0m\u001b[0m\n",
      "\u001b[0;31mIndexError\u001b[0m: only integers, slices (`:`), ellipsis (`...`), numpy.newaxis (`None`) and integer or boolean arrays are valid indices"
     ]
    }
   ],
   "source": [
    "df.columns['Date', 'Consumption', 'PublicConsumption', 'Investments', 'Error', 'Exports', 'Imports', 'GDP', 'GDPMainland']"
   ]
  }
 ],
 "metadata": {
  "kernelspec": {
   "display_name": "Python 3",
   "language": "python",
   "name": "python3"
  },
  "language_info": {
   "codemirror_mode": {
    "name": "ipython",
    "version": 3
   },
   "file_extension": ".py",
   "mimetype": "text/x-python",
   "name": "python",
   "nbconvert_exporter": "python",
   "pygments_lexer": "ipython3",
   "version": "3.6.4"
  }
 },
 "nbformat": 4,
 "nbformat_minor": 2
}
