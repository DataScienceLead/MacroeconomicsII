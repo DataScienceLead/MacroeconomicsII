{
 "cells": [
  {
   "cell_type": "markdown",
   "metadata": {},
   "source": [
    "# Excerise 5 ECN222 - estimation of a keynesian consumption equation\n",
    "* Joakim Blix Prestmo\n",
    "* 08.11.2018"
   ]
  },
  {
   "cell_type": "code",
   "execution_count": 71,
   "metadata": {},
   "outputs": [],
   "source": [
    "import pandas as pd\n",
    "#import matplotlib as plt\n",
    "import matplotlib.pyplot as plt\n",
    "import datetime\n",
    "import numpy as np"
   ]
  },
  {
   "cell_type": "code",
   "execution_count": 72,
   "metadata": {},
   "outputs": [],
   "source": [
    "df = pd.read_excel(\"../MakroData.xlsx\", sheet_name=\"Ark5\")\n",
    "# source: Statitics Norway and National Accounts\n",
    "df_macro = pd.read_excel(\"http://www.ssb.no/statbank/sq/10010628/\", skiprows=3, nrows=162)\n",
    "# Source: KVARTS database, Statistics Norways macroeconomic model"
   ]
  },
  {
   "cell_type": "code",
   "execution_count": 73,
   "metadata": {},
   "outputs": [
    {
     "data": {
      "text/html": [
       "<div>\n",
       "<style scoped>\n",
       "    .dataframe tbody tr th:only-of-type {\n",
       "        vertical-align: middle;\n",
       "    }\n",
       "\n",
       "    .dataframe tbody tr th {\n",
       "        vertical-align: top;\n",
       "    }\n",
       "\n",
       "    .dataframe thead th {\n",
       "        text-align: right;\n",
       "    }\n",
       "</style>\n",
       "<table border=\"1\" class=\"dataframe\">\n",
       "  <thead>\n",
       "    <tr style=\"text-align: right;\">\n",
       "      <th></th>\n",
       "      <th>PBOL</th>\n",
       "      <th>K83</th>\n",
       "      <th>RD300</th>\n",
       "      <th>RAM300</th>\n",
       "      <th>NB</th>\n",
       "      <th>BEF1574</th>\n",
       "      <th>NT</th>\n",
       "      <th>ntot</th>\n",
       "      <th>BF300</th>\n",
       "      <th>BG300</th>\n",
       "      <th>...</th>\n",
       "      <th>Y66</th>\n",
       "      <th>Y65</th>\n",
       "      <th>Y6</th>\n",
       "      <th>KPI</th>\n",
       "      <th>ww</th>\n",
       "      <th>YE</th>\n",
       "      <th>yei300</th>\n",
       "      <th>yei100</th>\n",
       "      <th>RENREALLONG</th>\n",
       "      <th>pbkgamma</th>\n",
       "    </tr>\n",
       "  </thead>\n",
       "  <tbody>\n",
       "    <tr>\n",
       "      <th>1978-01</th>\n",
       "      <td>0.10272</td>\n",
       "      <td>1.247729e+06</td>\n",
       "      <td>30660.23088</td>\n",
       "      <td>78.5</td>\n",
       "      <td>4055.18675</td>\n",
       "      <td>2892.92766</td>\n",
       "      <td>ND</td>\n",
       "      <td>1868.51558</td>\n",
       "      <td>137245.84375</td>\n",
       "      <td>117992.60156</td>\n",
       "      <td>...</td>\n",
       "      <td>4001.10214</td>\n",
       "      <td>1840.03003</td>\n",
       "      <td>51160.40262</td>\n",
       "      <td>0.218255</td>\n",
       "      <td>40.73216</td>\n",
       "      <td>7169.00218</td>\n",
       "      <td>6879.75</td>\n",
       "      <td>688.25</td>\n",
       "      <td>G        0.00500</td>\n",
       "      <td>0.025</td>\n",
       "    </tr>\n",
       "    <tr>\n",
       "      <th>1978-02</th>\n",
       "      <td>0.10702</td>\n",
       "      <td>1.262613e+06</td>\n",
       "      <td>31641.81006</td>\n",
       "      <td>78.5</td>\n",
       "      <td>4059.21146</td>\n",
       "      <td>2897.92249</td>\n",
       "      <td>ND</td>\n",
       "      <td>1884.55472</td>\n",
       "      <td>139720.28125</td>\n",
       "      <td>121831.46875</td>\n",
       "      <td>...</td>\n",
       "      <td>2951.41052</td>\n",
       "      <td>1839.29358</td>\n",
       "      <td>54685.59631</td>\n",
       "      <td>0.225750</td>\n",
       "      <td>41.68868</td>\n",
       "      <td>10115.45120</td>\n",
       "      <td>6879.75</td>\n",
       "      <td>688.25</td>\n",
       "      <td>0.005</td>\n",
       "      <td>0.025</td>\n",
       "    </tr>\n",
       "    <tr>\n",
       "      <th>1978-03</th>\n",
       "      <td>0.11116</td>\n",
       "      <td>1.279843e+06</td>\n",
       "      <td>31853.51051</td>\n",
       "      <td>78.5</td>\n",
       "      <td>4063.28041</td>\n",
       "      <td>2902.97249</td>\n",
       "      <td>ND</td>\n",
       "      <td>1865.15321</td>\n",
       "      <td>140142.43750</td>\n",
       "      <td>124409.70313</td>\n",
       "      <td>...</td>\n",
       "      <td>3647.62540</td>\n",
       "      <td>2012.99174</td>\n",
       "      <td>57741.30455</td>\n",
       "      <td>0.240648</td>\n",
       "      <td>48.71819</td>\n",
       "      <td>16528.32300</td>\n",
       "      <td>6879.75</td>\n",
       "      <td>688.25</td>\n",
       "      <td>0.005</td>\n",
       "      <td>0.025</td>\n",
       "    </tr>\n",
       "    <tr>\n",
       "      <th>1978-04</th>\n",
       "      <td>0.11499</td>\n",
       "      <td>1.296472e+06</td>\n",
       "      <td>32344.44765</td>\n",
       "      <td>78.5</td>\n",
       "      <td>4067.34930</td>\n",
       "      <td>2908.05008</td>\n",
       "      <td>ND</td>\n",
       "      <td>1888.17652</td>\n",
       "      <td>147638.00000</td>\n",
       "      <td>131623.71875</td>\n",
       "      <td>...</td>\n",
       "      <td>3009.86194</td>\n",
       "      <td>2189.68465</td>\n",
       "      <td>58799.68775</td>\n",
       "      <td>0.231967</td>\n",
       "      <td>42.13985</td>\n",
       "      <td>15809.21684</td>\n",
       "      <td>6879.75</td>\n",
       "      <td>688.25</td>\n",
       "      <td>0.005</td>\n",
       "      <td>0.025</td>\n",
       "    </tr>\n",
       "    <tr>\n",
       "      <th>1979-01</th>\n",
       "      <td>0.11844</td>\n",
       "      <td>1.308271e+06</td>\n",
       "      <td>32802.68954</td>\n",
       "      <td>149.0</td>\n",
       "      <td>4070.19727</td>\n",
       "      <td>2912.91681</td>\n",
       "      <td>ND</td>\n",
       "      <td>1891.77716</td>\n",
       "      <td>153980.68750</td>\n",
       "      <td>132862.85938</td>\n",
       "      <td>...</td>\n",
       "      <td>3549.74414</td>\n",
       "      <td>2064.86436</td>\n",
       "      <td>57865.93527</td>\n",
       "      <td>0.230633</td>\n",
       "      <td>41.76708</td>\n",
       "      <td>13676.67289</td>\n",
       "      <td>6879.75</td>\n",
       "      <td>844.25</td>\n",
       "      <td>0.005</td>\n",
       "      <td>0.025</td>\n",
       "    </tr>\n",
       "  </tbody>\n",
       "</table>\n",
       "<p>5 rows × 53 columns</p>\n",
       "</div>"
      ],
      "text/plain": [
       "            PBOL           K83        RD300  RAM300         NB     BEF1574   \\\n",
       "1978-01  0.10272  1.247729e+06  30660.23088    78.5  4055.18675  2892.92766   \n",
       "1978-02  0.10702  1.262613e+06  31641.81006    78.5  4059.21146  2897.92249   \n",
       "1978-03  0.11116  1.279843e+06  31853.51051    78.5  4063.28041  2902.97249   \n",
       "1978-04  0.11499  1.296472e+06  32344.44765    78.5  4067.34930  2908.05008   \n",
       "1979-01  0.11844  1.308271e+06  32802.68954   149.0  4070.19727  2912.91681   \n",
       "\n",
       "         NT        ntot         BF300         BG300    ...            Y66  \\\n",
       "1978-01  ND  1868.51558  137245.84375  117992.60156    ...     4001.10214   \n",
       "1978-02  ND  1884.55472  139720.28125  121831.46875    ...     2951.41052   \n",
       "1978-03  ND  1865.15321  140142.43750  124409.70313    ...     3647.62540   \n",
       "1978-04  ND  1888.17652  147638.00000  131623.71875    ...     3009.86194   \n",
       "1979-01  ND  1891.77716  153980.68750  132862.85938    ...     3549.74414   \n",
       "\n",
       "                Y65           Y6       KPI        ww           YE   yei300  \\\n",
       "1978-01  1840.03003  51160.40262  0.218255  40.73216   7169.00218  6879.75   \n",
       "1978-02  1839.29358  54685.59631  0.225750  41.68868  10115.45120  6879.75   \n",
       "1978-03  2012.99174  57741.30455  0.240648  48.71819  16528.32300  6879.75   \n",
       "1978-04  2189.68465  58799.68775  0.231967  42.13985  15809.21684  6879.75   \n",
       "1979-01  2064.86436  57865.93527  0.230633  41.76708  13676.67289  6879.75   \n",
       "\n",
       "         yei100       RENREALLONG  pbkgamma  \n",
       "1978-01  688.25  G        0.00500     0.025  \n",
       "1978-02  688.25             0.005     0.025  \n",
       "1978-03  688.25             0.005     0.025  \n",
       "1978-04  688.25             0.005     0.025  \n",
       "1979-01  844.25             0.005     0.025  \n",
       "\n",
       "[5 rows x 53 columns]"
      ]
     },
     "execution_count": 73,
     "metadata": {},
     "output_type": "execute_result"
    }
   ],
   "source": [
    "df.head()"
   ]
  },
  {
   "cell_type": "code",
   "execution_count": 74,
   "metadata": {},
   "outputs": [],
   "source": [
    "# Fix indexing\n",
    "df_macro['Unnamed: 0'] = df_macro['Unnamed: 0'].str.replace('K','Q')\n",
    "df_macro = df_macro.drop(['Unnamed: 0'], axis=1)\n",
    "df_macro.index = pd.Index(pd.period_range('1978-01', periods=210, freq='Q'))"
   ]
  },
  {
   "cell_type": "code",
   "execution_count": 75,
   "metadata": {},
   "outputs": [],
   "source": [
    "df.index = pd.Index(pd.period_range('1978-01', periods=156, freq='Q'))\n"
   ]
  },
  {
   "cell_type": "markdown",
   "metadata": {},
   "source": [
    "# Figures\n"
   ]
  },
  {
   "cell_type": "code",
   "execution_count": 76,
   "metadata": {},
   "outputs": [
    {
     "data": {
      "image/png": "[encoded data removed]",
      "text/plain": [
       "<matplotlib.figure.Figure at 0x22d2ede9fd0>"
      ]
     },
     "metadata": {},
     "output_type": "display_data"
    }
   ],
   "source": [
    "# Figure for household consumption\n",
    "df_macro['Konsum i husholdninger og ideelle organisasjoner'].plot()\n",
    "plt.title(\"Figure 1.1: Consumption\")\n",
    "plt.legend()\n",
    "plt.xlabel('Date', fontdict=None, labelpad=None)\n",
    "plt.ylabel('MNOK')\n",
    "plt.show()\n"
   ]
  },
  {
   "cell_type": "code",
   "execution_count": 77,
   "metadata": {},
   "outputs": [
    {
     "data": {
      "image/png": "[encoded data removed]",
      "text/plain": [
       "<matplotlib.figure.Figure at 0x22d2efed128>"
      ]
     },
     "metadata": {},
     "output_type": "display_data"
    }
   ],
   "source": [
    "# Figure for mortage loan rates\n",
    "df['RENPF300BO'].plot()\n",
    "plt.title(\"Figure 2.1: Mortgage loan rate\")\n",
    "plt.legend()\n",
    "plt.xlabel('Date', fontdict=None, labelpad=None)\n",
    "plt.ylabel('')\n",
    "plt.show()"
   ]
  },
  {
   "cell_type": "code",
   "execution_count": 47,
   "metadata": {},
   "outputs": [],
   "source": [
    "# Merge datasets to get a complete set of data (note not the same price-set, but for our usecase this is not a big issue)\n",
    "df_merge=df.merge(df_macro, how='left', on=None, left_on=None, left_index=True, right_index=True)"
   ]
  },
  {
   "cell_type": "code",
   "execution_count": null,
   "metadata": {},
   "outputs": [],
   "source": []
  },
  {
   "cell_type": "markdown",
   "metadata": {},
   "source": [
    "## Features engineering\n"
   ]
  },
  {
   "cell_type": "code",
   "execution_count": 81,
   "metadata": {},
   "outputs": [],
   "source": [
    "# Create growth rates:\n",
    "# df[log_C] = ...\n",
    "df_merge['C'] = (df_merge['Konsum i husholdninger og ideelle organisasjoner'])\n",
    "df_merge['c'] = np.log(df_merge['Konsum i husholdninger og ideelle organisasjoner'])\n",
    "df_merge['Dc'] = np.log(df_merge['Konsum i husholdninger og ideelle organisasjoner']).diff(4)\n",
    "df_merge['YD'] = (df_merge['RD300']-df_merge['RAM300'])/df_merge['KPI']\n",
    "df_merge['yd'] = np.log(df_merge['YD'])\n",
    "df_merge['Dyd'] = np.log(df_merge['YD']).diff(4)\n",
    "\n",
    "df_merge['yd_1'] = np.log(df_merge['YD']).shift(1)\n",
    "df_merge['c_1'] = np.log(df_merge['C']).shift(1)\n",
    "df_merge['Dkpi'] = np.log(df_merge['KPI']).diff(4)\n",
    "\n",
    "df_merge['i'] = df_merge['RENPF300BO']\n",
    "df_merge['r'] = df_merge['RENPF300BO']-df_merge['Dkpi']\n",
    "\n",
    "df_merge['Dc_1']=(df_merge['Dc']).shift(1)\n",
    "df_merge['Dyd_1']=(df_merge['Dyd']).shift(1)\n",
    "df_merge['Dc_2']=(df_merge['Dc_1']).shift(1)\n",
    "df_merge['Dyd_2']=(df_merge['Dyd_1']).shift(1)\n"
   ]
  },
  {
   "cell_type": "code",
   "execution_count": 86,
   "metadata": {},
   "outputs": [
    {
     "data": {
      "image/png": "[encoded data removed]",
      "text/plain": [
       "<matplotlib.figure.Figure at 0x22d2f0b46d8>"
      ]
     },
     "metadata": {},
     "output_type": "display_data"
    }
   ],
   "source": [
    "df_merge['Dc'].plot()\n",
    "df_merge['Dyd'].plot()\n",
    "df_merge['r'].plot()\n",
    "plt.title(\"Figure 1.1: Growth in consumption, interest rate and growth in real disposable income\")\n",
    "plt.legend()\n",
    "plt.xlabel('Date', fontdict=None, labelpad=None)\n",
    "plt.ylabel('MNOK')\n",
    "plt.show()"
   ]
  },
  {
   "cell_type": "code",
   "execution_count": 85,
   "metadata": {},
   "outputs": [
    {
     "data": {
      "image/png": "[encoded data removed]",
      "text/plain": [
       "<matplotlib.figure.Figure at 0x22d2f398f98>"
      ]
     },
     "metadata": {},
     "output_type": "display_data"
    }
   ],
   "source": [
    "df_merge['C'].plot()\n",
    "df_merge['YD'].plot()\n",
    "plt.title(\"Figure 1.1: Consumption and real disposable income\")\n",
    "plt.legend()\n",
    "plt.xlabel('Date', fontdict=None, labelpad=None)\n",
    "plt.ylabel('MNOK')\n",
    "plt.show()"
   ]
  },
  {
   "cell_type": "markdown",
   "metadata": {},
   "source": [
    "## Build regression model"
   ]
  },
  {
   "cell_type": "code",
   "execution_count": 94,
   "metadata": {},
   "outputs": [],
   "source": [
    "import statsmodels.api as sm # import statsmodels \n"
   ]
  },
  {
   "cell_type": "code",
   "execution_count": 87,
   "metadata": {},
   "outputs": [
    {
     "data": {
      "text/html": [
       "<div>\n",
       "<style scoped>\n",
       "    .dataframe tbody tr th:only-of-type {\n",
       "        vertical-align: middle;\n",
       "    }\n",
       "\n",
       "    .dataframe tbody tr th {\n",
       "        vertical-align: top;\n",
       "    }\n",
       "\n",
       "    .dataframe thead th {\n",
       "        text-align: right;\n",
       "    }\n",
       "</style>\n",
       "<table border=\"1\" class=\"dataframe\">\n",
       "  <thead>\n",
       "    <tr style=\"text-align: right;\">\n",
       "      <th></th>\n",
       "      <th>PBOL</th>\n",
       "      <th>K83</th>\n",
       "      <th>RD300</th>\n",
       "      <th>RAM300</th>\n",
       "      <th>NB</th>\n",
       "      <th>BEF1574</th>\n",
       "      <th>NT</th>\n",
       "      <th>ntot</th>\n",
       "      <th>BF300</th>\n",
       "      <th>BG300</th>\n",
       "      <th>...</th>\n",
       "      <th>c_1</th>\n",
       "      <th>Dkpi</th>\n",
       "      <th>i</th>\n",
       "      <th>r</th>\n",
       "      <th>Dc_1</th>\n",
       "      <th>Dyd_1</th>\n",
       "      <th>Dc_2</th>\n",
       "      <th>Dyd_2</th>\n",
       "      <th>c</th>\n",
       "      <th>yd</th>\n",
       "    </tr>\n",
       "  </thead>\n",
       "  <tbody>\n",
       "    <tr>\n",
       "      <th>1978Q1</th>\n",
       "      <td>0.10272</td>\n",
       "      <td>1.247729e+06</td>\n",
       "      <td>30660.23088</td>\n",
       "      <td>78.5</td>\n",
       "      <td>4055.18675</td>\n",
       "      <td>2892.92766</td>\n",
       "      <td>ND</td>\n",
       "      <td>1868.51558</td>\n",
       "      <td>137245.84375</td>\n",
       "      <td>117992.60156</td>\n",
       "      <td>...</td>\n",
       "      <td>NaN</td>\n",
       "      <td>NaN</td>\n",
       "      <td>0.02477</td>\n",
       "      <td>NaN</td>\n",
       "      <td>NaN</td>\n",
       "      <td>NaN</td>\n",
       "      <td>NaN</td>\n",
       "      <td>NaN</td>\n",
       "      <td>11.719281</td>\n",
       "      <td>11.850249</td>\n",
       "    </tr>\n",
       "    <tr>\n",
       "      <th>1978Q2</th>\n",
       "      <td>0.10702</td>\n",
       "      <td>1.262613e+06</td>\n",
       "      <td>31641.81006</td>\n",
       "      <td>78.5</td>\n",
       "      <td>4059.21146</td>\n",
       "      <td>2897.92249</td>\n",
       "      <td>ND</td>\n",
       "      <td>1884.55472</td>\n",
       "      <td>139720.28125</td>\n",
       "      <td>121831.46875</td>\n",
       "      <td>...</td>\n",
       "      <td>11.719281</td>\n",
       "      <td>NaN</td>\n",
       "      <td>0.02536</td>\n",
       "      <td>NaN</td>\n",
       "      <td>NaN</td>\n",
       "      <td>NaN</td>\n",
       "      <td>NaN</td>\n",
       "      <td>NaN</td>\n",
       "      <td>11.725639</td>\n",
       "      <td>11.848078</td>\n",
       "    </tr>\n",
       "    <tr>\n",
       "      <th>1978Q3</th>\n",
       "      <td>0.11116</td>\n",
       "      <td>1.279843e+06</td>\n",
       "      <td>31853.51051</td>\n",
       "      <td>78.5</td>\n",
       "      <td>4063.28041</td>\n",
       "      <td>2902.97249</td>\n",
       "      <td>ND</td>\n",
       "      <td>1865.15321</td>\n",
       "      <td>140142.43750</td>\n",
       "      <td>124409.70313</td>\n",
       "      <td>...</td>\n",
       "      <td>11.725639</td>\n",
       "      <td>NaN</td>\n",
       "      <td>0.02557</td>\n",
       "      <td>NaN</td>\n",
       "      <td>NaN</td>\n",
       "      <td>NaN</td>\n",
       "      <td>NaN</td>\n",
       "      <td>NaN</td>\n",
       "      <td>11.738490</td>\n",
       "      <td>11.790857</td>\n",
       "    </tr>\n",
       "    <tr>\n",
       "      <th>1978Q4</th>\n",
       "      <td>0.11499</td>\n",
       "      <td>1.296472e+06</td>\n",
       "      <td>32344.44765</td>\n",
       "      <td>78.5</td>\n",
       "      <td>4067.34930</td>\n",
       "      <td>2908.05008</td>\n",
       "      <td>ND</td>\n",
       "      <td>1888.17652</td>\n",
       "      <td>147638.00000</td>\n",
       "      <td>131623.71875</td>\n",
       "      <td>...</td>\n",
       "      <td>11.738490</td>\n",
       "      <td>NaN</td>\n",
       "      <td>0.02435</td>\n",
       "      <td>NaN</td>\n",
       "      <td>NaN</td>\n",
       "      <td>NaN</td>\n",
       "      <td>NaN</td>\n",
       "      <td>NaN</td>\n",
       "      <td>11.731499</td>\n",
       "      <td>11.842928</td>\n",
       "    </tr>\n",
       "    <tr>\n",
       "      <th>1979Q1</th>\n",
       "      <td>0.11844</td>\n",
       "      <td>1.308271e+06</td>\n",
       "      <td>32802.68954</td>\n",
       "      <td>149.0</td>\n",
       "      <td>4070.19727</td>\n",
       "      <td>2912.91681</td>\n",
       "      <td>ND</td>\n",
       "      <td>1891.77716</td>\n",
       "      <td>153980.68750</td>\n",
       "      <td>132862.85938</td>\n",
       "      <td>...</td>\n",
       "      <td>11.731499</td>\n",
       "      <td>0.055163</td>\n",
       "      <td>0.02679</td>\n",
       "      <td>-0.028373</td>\n",
       "      <td>NaN</td>\n",
       "      <td>NaN</td>\n",
       "      <td>NaN</td>\n",
       "      <td>NaN</td>\n",
       "      <td>11.750500</td>\n",
       "      <td>11.860641</td>\n",
       "    </tr>\n",
       "  </tbody>\n",
       "</table>\n",
       "<p>5 rows × 76 columns</p>\n",
       "</div>"
      ],
      "text/plain": [
       "           PBOL           K83        RD300  RAM300         NB     BEF1574   \\\n",
       "1978Q1  0.10272  1.247729e+06  30660.23088    78.5  4055.18675  2892.92766   \n",
       "1978Q2  0.10702  1.262613e+06  31641.81006    78.5  4059.21146  2897.92249   \n",
       "1978Q3  0.11116  1.279843e+06  31853.51051    78.5  4063.28041  2902.97249   \n",
       "1978Q4  0.11499  1.296472e+06  32344.44765    78.5  4067.34930  2908.05008   \n",
       "1979Q1  0.11844  1.308271e+06  32802.68954   149.0  4070.19727  2912.91681   \n",
       "\n",
       "        NT        ntot         BF300         BG300    ...            c_1  \\\n",
       "1978Q1  ND  1868.51558  137245.84375  117992.60156    ...            NaN   \n",
       "1978Q2  ND  1884.55472  139720.28125  121831.46875    ...      11.719281   \n",
       "1978Q3  ND  1865.15321  140142.43750  124409.70313    ...      11.725639   \n",
       "1978Q4  ND  1888.17652  147638.00000  131623.71875    ...      11.738490   \n",
       "1979Q1  ND  1891.77716  153980.68750  132862.85938    ...      11.731499   \n",
       "\n",
       "            Dkpi        i         r  Dc_1  Dyd_1 Dc_2  Dyd_2          c  \\\n",
       "1978Q1       NaN  0.02477       NaN   NaN    NaN  NaN    NaN  11.719281   \n",
       "1978Q2       NaN  0.02536       NaN   NaN    NaN  NaN    NaN  11.725639   \n",
       "1978Q3       NaN  0.02557       NaN   NaN    NaN  NaN    NaN  11.738490   \n",
       "1978Q4       NaN  0.02435       NaN   NaN    NaN  NaN    NaN  11.731499   \n",
       "1979Q1  0.055163  0.02679 -0.028373   NaN    NaN  NaN    NaN  11.750500   \n",
       "\n",
       "               yd  \n",
       "1978Q1  11.850249  \n",
       "1978Q2  11.848078  \n",
       "1978Q3  11.790857  \n",
       "1978Q4  11.842928  \n",
       "1979Q1  11.860641  \n",
       "\n",
       "[5 rows x 76 columns]"
      ]
     },
     "execution_count": 87,
     "metadata": {},
     "output_type": "execute_result"
    }
   ],
   "source": [
    "df_merge.head()"
   ]
  },
  {
   "cell_type": "code",
   "execution_count": 88,
   "metadata": {},
   "outputs": [
    {
     "data": {
      "text/plain": [
       "((156,), (156,))"
      ]
     },
     "execution_count": 88,
     "metadata": {},
     "output_type": "execute_result"
    }
   ],
   "source": [
    "df_merge['Dc'].shape, df_merge['Dyd'].shape"
   ]
  },
  {
   "cell_type": "code",
   "execution_count": 89,
   "metadata": {},
   "outputs": [
    {
     "data": {
      "text/plain": [
       "((150,), (150,))"
      ]
     },
     "execution_count": 89,
     "metadata": {},
     "output_type": "execute_result"
    }
   ],
   "source": [
    "# Because of the lags we want to delete the first rows\n",
    "df_model = df_merge.drop(df_merge.index[[0,1,2,3,4,5]])    \n",
    "df_model['Dc'].shape, df_model['Dyd'].shape"
   ]
  },
  {
   "cell_type": "code",
   "execution_count": 90,
   "metadata": {},
   "outputs": [],
   "source": [
    "#df_model[['Dyd_1', 'i']]\n"
   ]
  },
  {
   "cell_type": "code",
   "execution_count": 91,
   "metadata": {},
   "outputs": [],
   "source": [
    "# Set up for 4 models, with increasing no of explanatory variables\n",
    "modell1 = [\"Dyd\"]\n",
    "modell2 = [\"r\",\"Dyd\"]\n",
    "modell3 = [\"r\",\"Dyd\",\"yd_1\", 'c_1']\n",
    "modell4 = [\"r\",\"Dc_1\",\"Dyd\",\"Dyd_1\",\"yd_1\", 'c_1']\n"
   ]
  },
  {
   "cell_type": "code",
   "execution_count": 92,
   "metadata": {},
   "outputs": [
    {
     "data": {
      "text/plain": [
       "((150, 1), (150, 7))"
      ]
     },
     "execution_count": 92,
     "metadata": {},
     "output_type": "execute_result"
    }
   ],
   "source": [
    "y = df_model[[\"Dc\"]] ## X is the explanatory variables\n",
    "X = df_model[modell4] ## Y is the dependent variable\n",
    "X = sm.add_constant(X) ## a constant (or intercept) \n",
    "y.shape, X.shape"
   ]
  },
  {
   "cell_type": "code",
   "execution_count": 95,
   "metadata": {},
   "outputs": [],
   "source": [
    "#Regression model: fit the regression line\n",
    "model = sm.OLS(y,X).fit() \n"
   ]
  },
  {
   "cell_type": "code",
   "execution_count": 96,
   "metadata": {},
   "outputs": [
    {
     "data": {
      "text/html": [
       "<table class=\"simpletable\">\n",
       "<caption>OLS Regression Results</caption>\n",
       "<tr>\n",
       "  <th>Dep. Variable:</th>           <td>Dc</td>        <th>  R-squared:         </th> <td>   0.588</td>\n",
       "</tr>\n",
       "<tr>\n",
       "  <th>Model:</th>                   <td>OLS</td>       <th>  Adj. R-squared:    </th> <td>   0.571</td>\n",
       "</tr>\n",
       "<tr>\n",
       "  <th>Method:</th>             <td>Least Squares</td>  <th>  F-statistic:       </th> <td>   34.05</td>\n",
       "</tr>\n",
       "<tr>\n",
       "  <th>Date:</th>             <td>Thu, 08 Nov 2018</td> <th>  Prob (F-statistic):</th> <td>2.62e-25</td>\n",
       "</tr>\n",
       "<tr>\n",
       "  <th>Time:</th>                 <td>21:33:54</td>     <th>  Log-Likelihood:    </th> <td>  419.45</td>\n",
       "</tr>\n",
       "<tr>\n",
       "  <th>No. Observations:</th>      <td>   150</td>      <th>  AIC:               </th> <td>  -824.9</td>\n",
       "</tr>\n",
       "<tr>\n",
       "  <th>Df Residuals:</th>          <td>   143</td>      <th>  BIC:               </th> <td>  -803.8</td>\n",
       "</tr>\n",
       "<tr>\n",
       "  <th>Df Model:</th>              <td>     6</td>      <th>                     </th>     <td> </td>   \n",
       "</tr>\n",
       "<tr>\n",
       "  <th>Covariance Type:</th>      <td>nonrobust</td>    <th>                     </th>     <td> </td>   \n",
       "</tr>\n",
       "</table>\n",
       "<table class=\"simpletable\">\n",
       "<tr>\n",
       "    <td></td>       <th>coef</th>     <th>std err</th>      <th>t</th>      <th>P>|t|</th>  <th>[0.025</th>    <th>0.975]</th>  \n",
       "</tr>\n",
       "<tr>\n",
       "  <th>const</th> <td>   -0.1569</td> <td>    0.095</td> <td>   -1.647</td> <td> 0.102</td> <td>   -0.345</td> <td>    0.031</td>\n",
       "</tr>\n",
       "<tr>\n",
       "  <th>r</th>     <td>    0.0274</td> <td>    0.062</td> <td>    0.445</td> <td> 0.657</td> <td>   -0.094</td> <td>    0.149</td>\n",
       "</tr>\n",
       "<tr>\n",
       "  <th>Dc_1</th>  <td>    0.7423</td> <td>    0.054</td> <td>   13.644</td> <td> 0.000</td> <td>    0.635</td> <td>    0.850</td>\n",
       "</tr>\n",
       "<tr>\n",
       "  <th>Dyd</th>   <td>    0.0182</td> <td>    0.077</td> <td>    0.238</td> <td> 0.812</td> <td>   -0.133</td> <td>    0.170</td>\n",
       "</tr>\n",
       "<tr>\n",
       "  <th>Dyd_1</th> <td>    0.0433</td> <td>    0.065</td> <td>    0.669</td> <td> 0.505</td> <td>   -0.085</td> <td>    0.171</td>\n",
       "</tr>\n",
       "<tr>\n",
       "  <th>yd_1</th>  <td>    0.0541</td> <td>    0.029</td> <td>    1.863</td> <td> 0.064</td> <td>   -0.003</td> <td>    0.111</td>\n",
       "</tr>\n",
       "<tr>\n",
       "  <th>c_1</th>   <td>   -0.0410</td> <td>    0.023</td> <td>   -1.794</td> <td> 0.075</td> <td>   -0.086</td> <td>    0.004</td>\n",
       "</tr>\n",
       "</table>\n",
       "<table class=\"simpletable\">\n",
       "<tr>\n",
       "  <th>Omnibus:</th>       <td> 2.578</td> <th>  Durbin-Watson:     </th> <td>   2.296</td>\n",
       "</tr>\n",
       "<tr>\n",
       "  <th>Prob(Omnibus):</th> <td> 0.276</td> <th>  Jarque-Bera (JB):  </th> <td>   2.092</td>\n",
       "</tr>\n",
       "<tr>\n",
       "  <th>Skew:</th>          <td>-0.248</td> <th>  Prob(JB):          </th> <td>   0.351</td>\n",
       "</tr>\n",
       "<tr>\n",
       "  <th>Kurtosis:</th>      <td> 3.299</td> <th>  Cond. No.          </th> <td>1.59e+03</td>\n",
       "</tr>\n",
       "</table>"
      ],
      "text/plain": [
       "<class 'statsmodels.iolib.summary.Summary'>\n",
       "\"\"\"\n",
       "                            OLS Regression Results                            \n",
       "==============================================================================\n",
       "Dep. Variable:                     Dc   R-squared:                       0.588\n",
       "Model:                            OLS   Adj. R-squared:                  0.571\n",
       "Method:                 Least Squares   F-statistic:                     34.05\n",
       "Date:                Thu, 08 Nov 2018   Prob (F-statistic):           2.62e-25\n",
       "Time:                        21:33:54   Log-Likelihood:                 419.45\n",
       "No. Observations:                 150   AIC:                            -824.9\n",
       "Df Residuals:                     143   BIC:                            -803.8\n",
       "Df Model:                           6                                         \n",
       "Covariance Type:            nonrobust                                         \n",
       "==============================================================================\n",
       "                 coef    std err          t      P>|t|      [0.025      0.975]\n",
       "------------------------------------------------------------------------------\n",
       "const         -0.1569      0.095     -1.647      0.102      -0.345       0.031\n",
       "r              0.0274      0.062      0.445      0.657      -0.094       0.149\n",
       "Dc_1           0.7423      0.054     13.644      0.000       0.635       0.850\n",
       "Dyd            0.0182      0.077      0.238      0.812      -0.133       0.170\n",
       "Dyd_1          0.0433      0.065      0.669      0.505      -0.085       0.171\n",
       "yd_1           0.0541      0.029      1.863      0.064      -0.003       0.111\n",
       "c_1           -0.0410      0.023     -1.794      0.075      -0.086       0.004\n",
       "==============================================================================\n",
       "Omnibus:                        2.578   Durbin-Watson:                   2.296\n",
       "Prob(Omnibus):                  0.276   Jarque-Bera (JB):                2.092\n",
       "Skew:                          -0.248   Prob(JB):                        0.351\n",
       "Kurtosis:                       3.299   Cond. No.                     1.59e+03\n",
       "==============================================================================\n",
       "\n",
       "Warnings:\n",
       "[1] Standard Errors assume that the covariance matrix of the errors is correctly specified.\n",
       "[2] The condition number is large, 1.59e+03. This might indicate that there are\n",
       "strong multicollinearity or other numerical problems.\n",
       "\"\"\""
      ]
     },
     "execution_count": 96,
     "metadata": {},
     "output_type": "execute_result"
    }
   ],
   "source": [
    "# Print he estimation result / model summary\n",
    "model.summary()"
   ]
  },
  {
   "cell_type": "code",
   "execution_count": 97,
   "metadata": {},
   "outputs": [],
   "source": [
    "# %pylab inline\n",
    "# # We pick 100 hundred points equally spaced from the min to the max //create a test-set within the range of our min-max values\n",
    "# X_prime = np.linspace(y.y.min(), y.y.max(), 100)[:, np.newaxis]\n",
    "# X_prime = sm.add_constant(X_prime) # add constant as we did before\n",
    "\n",
    "# # Now we calculate the predicted values\n",
    "# y_hat = model.predict(X_prime)\n",
    "\n",
    "# plt.scatter(df_merge['DC'], df_merge['DRD300'] , alpha=0.3) # Plot the raw data\n",
    "# plt.xlabel(\"DC\")\n",
    "# plt.ylabel(\"DRD300\")\n",
    "# plt.plot(X_prime[:, 1], y_hat, 'r', alpha=0.9) # Add the regression line, colored in red\n"
   ]
  },
  {
   "cell_type": "markdown",
   "metadata": {},
   "source": [
    "# Export data"
   ]
  },
  {
   "cell_type": "code",
   "execution_count": 100,
   "metadata": {},
   "outputs": [],
   "source": [
    "datalist = ['C', 'c', 'c_1', 'Dc', 'Dc_1', 'r', 'i', 'YD','yd', 'yd_1', 'Dyd_1']"
   ]
  },
  {
   "cell_type": "code",
   "execution_count": 101,
   "metadata": {},
   "outputs": [],
   "source": [
    "df_short = df_model[datalist]\n",
    "df_short.to_excel(\"../MakroDataKort.xlsx\")"
   ]
  },
  {
   "cell_type": "code",
   "execution_count": 102,
   "metadata": {},
   "outputs": [],
   "source": [
    "df_model.to_excel(\"../MakroDataModell.xlsx\")"
   ]
  },
  {
   "cell_type": "code",
   "execution_count": 103,
   "metadata": {},
   "outputs": [
    {
     "data": {
      "text/html": [
       "<div>\n",
       "<style scoped>\n",
       "    .dataframe tbody tr th:only-of-type {\n",
       "        vertical-align: middle;\n",
       "    }\n",
       "\n",
       "    .dataframe tbody tr th {\n",
       "        vertical-align: top;\n",
       "    }\n",
       "\n",
       "    .dataframe thead th {\n",
       "        text-align: right;\n",
       "    }\n",
       "</style>\n",
       "<table border=\"1\" class=\"dataframe\">\n",
       "  <thead>\n",
       "    <tr style=\"text-align: right;\">\n",
       "      <th></th>\n",
       "      <th>C</th>\n",
       "      <th>c</th>\n",
       "      <th>c_1</th>\n",
       "      <th>Dc</th>\n",
       "      <th>Dc_1</th>\n",
       "      <th>r</th>\n",
       "      <th>i</th>\n",
       "      <th>YD</th>\n",
       "      <th>yd</th>\n",
       "      <th>yd_1</th>\n",
       "      <th>Dyd_1</th>\n",
       "    </tr>\n",
       "  </thead>\n",
       "  <tbody>\n",
       "    <tr>\n",
       "      <th>1979Q3</th>\n",
       "      <td>129761.0</td>\n",
       "      <td>11.773450</td>\n",
       "      <td>11.772810</td>\n",
       "      <td>0.034959</td>\n",
       "      <td>0.047171</td>\n",
       "      <td>0.011346</td>\n",
       "      <td>0.02521</td>\n",
       "      <td>135136.333506</td>\n",
       "      <td>11.814039</td>\n",
       "      <td>11.801166</td>\n",
       "      <td>-0.046912</td>\n",
       "    </tr>\n",
       "    <tr>\n",
       "      <th>1979Q4</th>\n",
       "      <td>131001.0</td>\n",
       "      <td>11.782960</td>\n",
       "      <td>11.773450</td>\n",
       "      <td>0.051462</td>\n",
       "      <td>0.034959</td>\n",
       "      <td>0.055451</td>\n",
       "      <td>0.02453</td>\n",
       "      <td>148549.550825</td>\n",
       "      <td>11.908674</td>\n",
       "      <td>11.814039</td>\n",
       "      <td>0.023183</td>\n",
       "    </tr>\n",
       "    <tr>\n",
       "      <th>1980Q1</th>\n",
       "      <td>130856.0</td>\n",
       "      <td>11.781853</td>\n",
       "      <td>11.782960</td>\n",
       "      <td>0.031352</td>\n",
       "      <td>0.051462</td>\n",
       "      <td>-0.001258</td>\n",
       "      <td>0.02613</td>\n",
       "      <td>148175.988015</td>\n",
       "      <td>11.906156</td>\n",
       "      <td>11.908674</td>\n",
       "      <td>0.065746</td>\n",
       "    </tr>\n",
       "    <tr>\n",
       "      <th>1980Q2</th>\n",
       "      <td>130062.0</td>\n",
       "      <td>11.775767</td>\n",
       "      <td>11.781853</td>\n",
       "      <td>0.002957</td>\n",
       "      <td>0.031352</td>\n",
       "      <td>-0.030648</td>\n",
       "      <td>0.02650</td>\n",
       "      <td>142179.997387</td>\n",
       "      <td>11.864849</td>\n",
       "      <td>11.906156</td>\n",
       "      <td>0.045515</td>\n",
       "    </tr>\n",
       "    <tr>\n",
       "      <th>1980Q3</th>\n",
       "      <td>131344.0</td>\n",
       "      <td>11.785575</td>\n",
       "      <td>11.775767</td>\n",
       "      <td>0.012126</td>\n",
       "      <td>0.002957</td>\n",
       "      <td>-0.058704</td>\n",
       "      <td>0.02763</td>\n",
       "      <td>142300.418000</td>\n",
       "      <td>11.865696</td>\n",
       "      <td>11.864849</td>\n",
       "      <td>0.063683</td>\n",
       "    </tr>\n",
       "  </tbody>\n",
       "</table>\n",
       "</div>"
      ],
      "text/plain": [
       "               C          c        c_1        Dc      Dc_1         r        i  \\\n",
       "1979Q3  129761.0  11.773450  11.772810  0.034959  0.047171  0.011346  0.02521   \n",
       "1979Q4  131001.0  11.782960  11.773450  0.051462  0.034959  0.055451  0.02453   \n",
       "1980Q1  130856.0  11.781853  11.782960  0.031352  0.051462 -0.001258  0.02613   \n",
       "1980Q2  130062.0  11.775767  11.781853  0.002957  0.031352 -0.030648  0.02650   \n",
       "1980Q3  131344.0  11.785575  11.775767  0.012126  0.002957 -0.058704  0.02763   \n",
       "\n",
       "                   YD         yd       yd_1     Dyd_1  \n",
       "1979Q3  135136.333506  11.814039  11.801166 -0.046912  \n",
       "1979Q4  148549.550825  11.908674  11.814039  0.023183  \n",
       "1980Q1  148175.988015  11.906156  11.908674  0.065746  \n",
       "1980Q2  142179.997387  11.864849  11.906156  0.045515  \n",
       "1980Q3  142300.418000  11.865696  11.864849  0.063683  "
      ]
     },
     "execution_count": 103,
     "metadata": {},
     "output_type": "execute_result"
    }
   ],
   "source": [
    "df_short.head()"
   ]
  },
  {
   "cell_type": "code",
   "execution_count": null,
   "metadata": {},
   "outputs": [],
   "source": []
  }
 ],
 "metadata": {
  "kernelspec": {
   "display_name": "Python 3",
   "language": "python",
   "name": "python3"
  },
  "language_info": {
   "codemirror_mode": {
    "name": "ipython",
    "version": 3
   },
   "file_extension": ".py",
   "mimetype": "text/x-python",
   "name": "python",
   "nbconvert_exporter": "python",
   "pygments_lexer": "ipython3",
   "version": "3.7.4"
  }
 },
 "nbformat": 4,
 "nbformat_minor": 4
}
